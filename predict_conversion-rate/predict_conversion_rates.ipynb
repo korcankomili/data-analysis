{
 "cells": [
  {
   "cell_type": "code",
   "execution_count": 7,
   "metadata": {},
   "outputs": [],
   "source": [
    "import pandas as pd # Data Manupilation\n",
    "import numpy as np # Data Manupilation\n",
    "from collections import Counter\n",
    "import operator\n",
    "\n",
    "import seaborn as sns\n",
    "\n",
    "import plotly.express as px # Data Visualization\n",
    "from plotly.offline import plot\n",
    "import plotly.graph_objs as go\n",
    "from plotly.subplots import make_subplots\n",
    "\n",
    "\n",
    "pd.set_option('float_format', '{:f}'.format)"
   ]
  },
  {
   "cell_type": "markdown",
   "metadata": {},
   "source": [
    "<ul>\n",
    "  <li><b><u>country:</u></b> visitor country based on the IP address.</li>\n",
    "  <li><b><u>age:</u></b> visitor age. Inferred from 3rd party providers</li>\n",
    "  <li><b><u>new_user:</u></b> whether the visitor has visited the site before, based on cookies, or if they are brand new to the site.</li>\n",
    "  <li><b><u>source:</u></b> Marketing channel source.\n",
    "      <ul>\n",
    "      <li><b>Ads:</b> Came to the site by clicking on an advertisement</li>\n",
    "      <li><b>Seo:</b> Came to the site by clicking on search results</li>\n",
    "      <li><b>Direct:</b> Came to the site by directly typing the URL on the browser</li>\n",
    "    </ul>\n",
    "  </li>\n",
    "  <li><b><u>total_pages_visited:</u></b> Number of total pages visited during the session. This can be seen as a proxy for time spent on-site and engagement</li>\n",
    "  <li><b><u>converted:</u></b> This is our label. 1 means they converted, i.e. created a new account, within the session, 0 means they left without doing so.</li>\n",
    "</ul> "
   ]
  },
  {
   "cell_type": "code",
   "execution_count": 2,
   "metadata": {},
   "outputs": [],
   "source": [
    "# The provided dataset\n",
    "df = pd.read_csv(\"conversion_rates.csv\")"
   ]
  },
  {
   "cell_type": "code",
   "execution_count": null,
   "metadata": {},
   "outputs": [],
   "source": []
  }
 ],
 "metadata": {
  "kernelspec": {
   "display_name": "base",
   "language": "python",
   "name": "python3"
  },
  "language_info": {
   "codemirror_mode": {
    "name": "ipython",
    "version": 3
   },
   "file_extension": ".py",
   "mimetype": "text/x-python",
   "name": "python",
   "nbconvert_exporter": "python",
   "pygments_lexer": "ipython3",
   "version": "3.9.7"
  },
  "orig_nbformat": 4
 },
 "nbformat": 4,
 "nbformat_minor": 2
}
