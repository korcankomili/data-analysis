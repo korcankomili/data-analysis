{
 "cells": [
  {
   "cell_type": "markdown",
   "metadata": {},
   "source": [
    "# Promoted Feature Analysis of the Company-X"
   ]
  },
  {
   "cell_type": "markdown",
   "metadata": {},
   "source": [
    "Welcome to Company-X, an e-commerce platform where sellers can list their products to find buyers. In this competitive marketplace, we know it's common for there to be more stuff for sale than people looking to buy. But our main goal is to make our sellers happy.\n",
    "\n",
    "To help sellers get more chances to sell their items, we offer different ways to promote their products. One of these options is the \"Promoted\" feature, which boosts the visibility of their items.\n",
    "\n",
    "When sellers use the \"Promoted\" feature, it makes their products more visible to potential buyers for three days. This means more people see the items on the homepage and in relevant categories, which usually leads to more views. Right now, sellers can get this feature for just €2.\n",
    "\n",
    "Company-X is currently thinking about whether this is the best way to make money from our value-added services. We're also planning to use data to figure out if this strategy is working well and how we can make it even better for the long term."
   ]
  },
  {
   "cell_type": "code",
   "execution_count": 1,
   "metadata": {},
   "outputs": [],
   "source": [
    "import pandas as pd # Data Manipulation\n",
    "import numpy as np # Data Manipulation\n",
    "\n",
    "import plotly.graph_objs as go # Data Visualization\n",
    "import plotly.express as px # Data Visualization\n",
    "from plotly.subplots import make_subplots # Data Visualization\n",
    "import seaborn as sns # Data Visualization\n",
    "import matplotlib.pyplot as plt # Data Visualization\n",
    "\n",
    "from sklearn.linear_model import LinearRegression # Linear Model\n",
    "from sklearn.metrics import r2_score # Linear Model Evaluation\n",
    "\n",
    "import warnings\n",
    "import helper\n",
    "\n",
    "warnings.filterwarnings(\"ignore\")"
   ]
  },
  {
   "cell_type": "markdown",
   "metadata": {},
   "source": [
    "# ignore warnings\n",
    "warnings.filterwarnings('ignore')"
   ]
  },
  {
   "cell_type": "markdown",
   "metadata": {},
   "source": [
    "## Importing the data\n",
    "\n",
    "- Renaming columns\n",
    "- Applying COALESCE() function/fillna to handle null values\n",
    "- Generating new columns: total_amount, promoted_count"
   ]
  },
  {
   "cell_type": "code",
   "execution_count": 2,
   "metadata": {},
   "outputs": [
    {
     "data": {
      "text/html": [
       "<div>\n",
       "<style scoped>\n",
       "    .dataframe tbody tr th:only-of-type {\n",
       "        vertical-align: middle;\n",
       "    }\n",
       "\n",
       "    .dataframe tbody tr th {\n",
       "        vertical-align: top;\n",
       "    }\n",
       "\n",
       "    .dataframe thead th {\n",
       "        text-align: right;\n",
       "    }\n",
       "</style>\n",
       "<table border=\"1\" class=\"dataframe\">\n",
       "  <thead>\n",
       "    <tr style=\"text-align: right;\">\n",
       "      <th></th>\n",
       "      <th>category</th>\n",
       "      <th>sub_category</th>\n",
       "      <th>total_count</th>\n",
       "      <th>avg_price</th>\n",
       "      <th>promoted_revenue</th>\n",
       "      <th>total_amount</th>\n",
       "      <th>promoted_count</th>\n",
       "    </tr>\n",
       "  </thead>\n",
       "  <tbody>\n",
       "    <tr>\n",
       "      <th>0</th>\n",
       "      <td>ACCESSORIES_JEWELLERY</td>\n",
       "      <td>BELTS</td>\n",
       "      <td>29838</td>\n",
       "      <td>21.273161</td>\n",
       "      <td>1382.0</td>\n",
       "      <td>6.347486e+05</td>\n",
       "      <td>691.0</td>\n",
       "    </tr>\n",
       "    <tr>\n",
       "      <th>1</th>\n",
       "      <td>ACCESSORIES_JEWELLERY</td>\n",
       "      <td>GLOVES</td>\n",
       "      <td>6350</td>\n",
       "      <td>17.043860</td>\n",
       "      <td>304.0</td>\n",
       "      <td>1.082285e+05</td>\n",
       "      <td>152.0</td>\n",
       "    </tr>\n",
       "    <tr>\n",
       "      <th>2</th>\n",
       "      <td>ACCESSORIES_JEWELLERY</td>\n",
       "      <td>JEWELRY</td>\n",
       "      <td>343493</td>\n",
       "      <td>17.935880</td>\n",
       "      <td>20554.0</td>\n",
       "      <td>6.160849e+06</td>\n",
       "      <td>10277.0</td>\n",
       "    </tr>\n",
       "    <tr>\n",
       "      <th>3</th>\n",
       "      <td>ACCESSORIES_JEWELLERY</td>\n",
       "      <td>KEY_RINGS</td>\n",
       "      <td>5</td>\n",
       "      <td>15.900000</td>\n",
       "      <td>0.0</td>\n",
       "      <td>7.950000e+01</td>\n",
       "      <td>0.0</td>\n",
       "    </tr>\n",
       "    <tr>\n",
       "      <th>4</th>\n",
       "      <td>ACCESSORIES_JEWELLERY</td>\n",
       "      <td>OTHER_ACCESSORIES_AND_JEWELLERY</td>\n",
       "      <td>52245</td>\n",
       "      <td>33.023548</td>\n",
       "      <td>2782.0</td>\n",
       "      <td>1.725315e+06</td>\n",
       "      <td>1391.0</td>\n",
       "    </tr>\n",
       "  </tbody>\n",
       "</table>\n",
       "</div>"
      ],
      "text/plain": [
       "                category                     sub_category  total_count  \\\n",
       "0  ACCESSORIES_JEWELLERY                            BELTS        29838   \n",
       "1  ACCESSORIES_JEWELLERY                           GLOVES         6350   \n",
       "2  ACCESSORIES_JEWELLERY                          JEWELRY       343493   \n",
       "3  ACCESSORIES_JEWELLERY                        KEY_RINGS            5   \n",
       "4  ACCESSORIES_JEWELLERY  OTHER_ACCESSORIES_AND_JEWELLERY        52245   \n",
       "\n",
       "   avg_price  promoted_revenue  total_amount  promoted_count  \n",
       "0  21.273161            1382.0  6.347486e+05           691.0  \n",
       "1  17.043860             304.0  1.082285e+05           152.0  \n",
       "2  17.935880           20554.0  6.160849e+06         10277.0  \n",
       "3  15.900000               0.0  7.950000e+01             0.0  \n",
       "4  33.023548            2782.0  1.725315e+06          1391.0  "
      ]
     },
     "execution_count": 2,
     "metadata": {},
     "output_type": "execute_result"
    }
   ],
   "source": [
    "df = helper.fetch_csv(\"data_sources/company_x_promoted.csv\")\n",
    "\n",
    "# rename \n",
    "df = df.rename(columns={ \n",
    "    \"avg_listing_price_eur\": \"avg_price\",\n",
    "    \"number_of_listings\": \"total_count\",\n",
    "    \"revenue_from_promoted\": \"promoted_revenue\"\n",
    "})\n",
    "\n",
    "# fill na\n",
    "df[\"category\"] = df[\"category\"].fillna(\"unknown\")\n",
    "df[\"sub_category\"] = df[\"sub_category\"].fillna(\"unknown\")\n",
    "df[\"total_count\"] = df[\"total_count\"].fillna(0)\n",
    "df[\"avg_price\"] = df[\"avg_price\"].fillna(0)\n",
    "df[\"promoted_revenue\"] = df[\"promoted_revenue\"].fillna(0)\n",
    "\n",
    "# enhance \n",
    "df[\"total_amount\"] = df[\"avg_price\"] * df[\"total_count\"]\n",
    "df[\"promoted_count\"] = df[\"promoted_revenue\"] / 2 \n",
    "\n",
    "# do not enhance cost_rate and promoted_rate as they are aggregated fields which will be dependent on the dataset\n",
    "\n",
    "df.head()"
   ]
  },
  {
   "cell_type": "code",
   "execution_count": 3,
   "metadata": {},
   "outputs": [],
   "source": [
    "def enhance(df):\n",
    "    df_enhance = df.copy()\n",
    "\n",
    "    df_enhance[\"avg_price\"] = df_enhance[\"total_amount\"] / df_enhance[\"total_count\"]\n",
    "    df_enhance[\"promoted_rate\"] = df_enhance[\"promoted_count\"] / df_enhance[\"total_count\"]\n",
    "    df_enhance[\"cost_rate\"] = 2 / df_enhance[\"avg_price\"]\n",
    "\n",
    "    return df_enhance"
   ]
  },
  {
   "cell_type": "markdown",
   "metadata": {},
   "source": [
    "# Section - I : Evaluate current situation"
   ]
  },
  {
   "cell_type": "markdown",
   "metadata": {},
   "source": [
    "## A: What affects on what?"
   ]
  },
  {
   "cell_type": "code",
   "execution_count": 4,
   "metadata": {},
   "outputs": [
    {
     "data": {
      "text/plain": [
       "<AxesSubplot:title={'center':'Correlation Matrix'}>"
      ]
     },
     "execution_count": 4,
     "metadata": {},
     "output_type": "execute_result"
    },
    {
     "data": {
      "image/png": "[encoded data removed]",
      "text/plain": [
       "<Figure size 864x432 with 2 Axes>"
      ]
     },
     "metadata": {
      "needs_background": "light"
     },
     "output_type": "display_data"
    }
   ],
   "source": [
    "helper.plot_correlation_heatmap(df=enhance(df))"
   ]
  },
  {
   "cell_type": "code",
   "execution_count": 12,
   "metadata": {},
   "outputs": [
    {
     "data": {
      "application/vnd.plotly.v1+json": {
       "config": {
        "plotlyServerURL": "https://plot.ly"
       },
       "data": [
        {
         "hovertemplate": "total_count=%{x}<br>promoted_count=%{marker.size}<extra></extra>",
         "legendgroup": "",
         "marker": {
          "color": "#636efa",
          "size": [
           691,
           152,
           10277,
           1391,
           135,
           1951,
           3,
           4619,
           1224,
           2642,
           50,
           558,
           1637,
           1521,
           767,
           21,
           189,
           561,
           115,
           799,
           24,
           2603,
           522,
           443,
           54,
           198,
           168,
           199,
           63,
           72,
           363,
           257,
           253,
           1412,
           1061,
           11568,
           219,
           1578,
           5496,
           220,
           633,
           233,
           114,
           10,
           111,
           63,
           16,
           1181,
           260,
           2950,
           75,
           5444,
           675,
           3172,
           4844,
           77,
           264,
           2845,
           52,
           331,
           7,
           6449,
           1808,
           313,
           69,
           3,
           4,
           5,
           82,
           1312,
           468,
           453,
           483,
           8092,
           2805,
           987,
           8797,
           272,
           11555,
           2572,
           68,
           211,
           1,
           3491,
           3916,
           8251,
           2333,
           64,
           21679,
           3093,
           5736,
           78,
           2773,
           409,
           137,
           879,
           3164,
           156,
           5622,
           364,
           35,
           7911,
           3045,
           1860,
           249,
           383,
           76,
           18,
           84,
           281,
           274,
           67,
           12,
           55,
           49,
           317,
           26,
           25,
           141,
           417,
           2820,
           62,
           3073,
           930,
           862,
           53,
           107,
           614,
           1711,
           51,
           115,
           6,
           4850,
           185,
           249,
           4850,
           3,
           177,
           62,
           2448,
           226,
           199,
           117,
           130,
           96,
           47,
           116,
           6,
           44,
           220,
           1347,
           80,
           66,
           7,
           16,
           107,
           319,
           147,
           18,
           68,
           44,
           167,
           18,
           8,
           69,
           19,
           21,
           9,
           52,
           16,
           642,
           353,
           249,
           564,
           90,
           15,
           47,
           896,
           174,
           47,
           27,
           65,
           143,
           235,
           1072,
           1743,
           417,
           19,
           14,
           371,
           344,
           228,
           55,
           3790,
           518,
           60,
           8608,
           12607,
           39712,
           12658,
           631,
           3620,
           2054,
           28516,
           23564,
           3285,
           5915,
           896,
           4159,
           2687,
           38083,
           9568,
           1266
          ],
          "sizemode": "area",
          "sizeref": 99.28,
          "symbol": "circle"
         },
         "mode": "markers",
         "name": "",
         "orientation": "v",
         "showlegend": false,
         "type": "scatter",
         "x": [
          29838,
          6350,
          343493,
          52245,
          8741,
          34020,
          271,
          66595,
          53325,
          144286,
          3417,
          20205,
          70215,
          23534,
          35882,
          4836,
          10482,
          9472,
          4960,
          22210,
          1438,
          92987,
          11227,
          6101,
          1329,
          3083,
          3069,
          4479,
          1126,
          1847,
          4118,
          4307,
          8461,
          24933,
          26274,
          184771,
          6307,
          29923,
          98807,
          8233,
          15462,
          48261,
          10813,
          1682,
          2825,
          4326,
          1933,
          16579,
          8069,
          201877,
          26908,
          240540,
          76305,
          213368,
          164689,
          12303,
          6499,
          262873,
          3653,
          46647,
          551,
          174736,
          263248,
          22674,
          3816,
          145,
          211,
          80,
          1727,
          33976,
          13660,
          19031,
          34751,
          185426,
          65275,
          33411,
          131523,
          11787,
          240912,
          64920,
          2526,
          5098,
          72,
          72368,
          58252,
          117998,
          59699,
          1861,
          289412,
          229627,
          268449,
          5293,
          198281,
          50068,
          38647,
          88589,
          191493,
          19752,
          200824,
          32593,
          2480,
          200732,
          321053,
          309425,
          17053,
          7995,
          4663,
          769,
          1943,
          4400,
          9865,
          2124,
          282,
          1332,
          1185,
          4139,
          1380,
          2363,
          5900,
          8533,
          85537,
          3379,
          149971,
          37116,
          25211,
          2432,
          2206,
          21204,
          33074,
          2989,
          1636,
          171,
          73941,
          3011,
          4807,
          73941,
          63,
          4602,
          1084,
          37661,
          3441,
          2305,
          2387,
          2590,
          1795,
          899,
          2105,
          33,
          856,
          5417,
          24383,
          2506,
          2498,
          246,
          922,
          2719,
          7823,
          5695,
          248,
          1486,
          1130,
          4716,
          348,
          123,
          2068,
          342,
          766,
          193,
          1437,
          221,
          35696,
          4839,
          7551,
          12425,
          3629,
          614,
          1480,
          30334,
          9059,
          3272,
          1476,
          4415,
          1719,
          2544,
          22118,
          19311,
          7204,
          465,
          787,
          16432,
          38554,
          7509,
          1806,
          177983,
          16301,
          838,
          169287,
          241954,
          860056,
          330765,
          12278,
          133086,
          27816,
          377058,
          713152,
          153211,
          214910,
          11876,
          124559,
          91268,
          1844512,
          317747,
          35999
         ],
         "xaxis": "x",
         "y": [
          691,
          152,
          10277,
          1391,
          135,
          1951,
          3,
          4619,
          1224,
          2642,
          50,
          558,
          1637,
          1521,
          767,
          21,
          189,
          561,
          115,
          799,
          24,
          2603,
          522,
          443,
          54,
          198,
          168,
          199,
          63,
          72,
          363,
          257,
          253,
          1412,
          1061,
          11568,
          219,
          1578,
          5496,
          220,
          633,
          233,
          114,
          10,
          111,
          63,
          16,
          1181,
          260,
          2950,
          75,
          5444,
          675,
          3172,
          4844,
          77,
          264,
          2845,
          52,
          331,
          7,
          6449,
          1808,
          313,
          69,
          3,
          4,
          5,
          82,
          1312,
          468,
          453,
          483,
          8092,
          2805,
          987,
          8797,
          272,
          11555,
          2572,
          68,
          211,
          1,
          3491,
          3916,
          8251,
          2333,
          64,
          21679,
          3093,
          5736,
          78,
          2773,
          409,
          137,
          879,
          3164,
          156,
          5622,
          364,
          35,
          7911,
          3045,
          1860,
          249,
          383,
          76,
          18,
          84,
          281,
          274,
          67,
          12,
          55,
          49,
          317,
          26,
          25,
          141,
          417,
          2820,
          62,
          3073,
          930,
          862,
          53,
          107,
          614,
          1711,
          51,
          115,
          6,
          4850,
          185,
          249,
          4850,
          3,
          177,
          62,
          2448,
          226,
          199,
          117,
          130,
          96,
          47,
          116,
          6,
          44,
          220,
          1347,
          80,
          66,
          7,
          16,
          107,
          319,
          147,
          18,
          68,
          44,
          167,
          18,
          8,
          69,
          19,
          21,
          9,
          52,
          16,
          642,
          353,
          249,
          564,
          90,
          15,
          47,
          896,
          174,
          47,
          27,
          65,
          143,
          235,
          1072,
          1743,
          417,
          19,
          14,
          371,
          344,
          228,
          55,
          3790,
          518,
          60,
          8608,
          12607,
          39712,
          12658,
          631,
          3620,
          2054,
          28516,
          23564,
          3285,
          5915,
          896,
          4159,
          2687,
          38083,
          9568,
          1266
         ],
         "yaxis": "y"
        },
        {
         "hovertemplate": "<b>OLS trendline</b><br>promoted_count = 0.027397 * total_count + 306.202<br>R<sup>2</sup>=0.757680<br><br>total_count=%{x}<br>promoted_count=%{y} <b>(trend)</b><extra></extra>",
         "legendgroup": "",
         "line": {
          "color": "black"
         },
         "marker": {
          "color": "#636efa",
          "symbol": "circle"
         },
         "mode": "lines",
         "name": "",
         "showlegend": false,
         "type": "scatter",
         "x": [
          33,
          63,
          72,
          80,
          123,
          145,
          171,
          193,
          211,
          221,
          246,
          248,
          271,
          282,
          342,
          348,
          465,
          551,
          614,
          766,
          769,
          787,
          838,
          856,
          899,
          922,
          1084,
          1126,
          1130,
          1185,
          1329,
          1332,
          1380,
          1437,
          1438,
          1476,
          1480,
          1486,
          1636,
          1682,
          1719,
          1727,
          1795,
          1806,
          1847,
          1861,
          1933,
          1943,
          2068,
          2105,
          2124,
          2206,
          2305,
          2363,
          2387,
          2432,
          2480,
          2498,
          2506,
          2526,
          2544,
          2590,
          2719,
          2825,
          2989,
          3011,
          3069,
          3083,
          3272,
          3379,
          3417,
          3441,
          3629,
          3653,
          3816,
          4118,
          4139,
          4307,
          4326,
          4400,
          4415,
          4479,
          4602,
          4663,
          4716,
          4807,
          4836,
          4839,
          4960,
          5098,
          5293,
          5417,
          5695,
          5900,
          6101,
          6307,
          6350,
          6499,
          7204,
          7509,
          7551,
          7823,
          7995,
          8069,
          8233,
          8461,
          8533,
          8741,
          9059,
          9472,
          9865,
          10482,
          10813,
          11227,
          11787,
          11876,
          12278,
          12303,
          12425,
          13660,
          15462,
          16301,
          16432,
          16579,
          17053,
          19031,
          19311,
          19752,
          20205,
          21204,
          22118,
          22210,
          22674,
          23534,
          24383,
          24933,
          25211,
          26274,
          26908,
          27816,
          29838,
          29923,
          30334,
          32593,
          33074,
          33411,
          33976,
          34020,
          34751,
          35696,
          35882,
          35999,
          37116,
          37661,
          38554,
          38647,
          46647,
          48261,
          50068,
          52245,
          53325,
          58252,
          59699,
          64920,
          65275,
          66595,
          70215,
          72368,
          73941,
          73941,
          76305,
          85537,
          88589,
          91268,
          92987,
          98807,
          117998,
          124559,
          131523,
          133086,
          144286,
          149971,
          153211,
          164689,
          169287,
          174736,
          177983,
          184771,
          185426,
          191493,
          198281,
          200732,
          200824,
          201877,
          213368,
          214910,
          229627,
          240540,
          240912,
          241954,
          262873,
          263248,
          268449,
          289412,
          309425,
          317747,
          321053,
          330765,
          343493,
          377058,
          713152,
          860056,
          1844512
         ],
         "xaxis": "x",
         "y": [
          307.10588412271454,
          307.92779276994065,
          308.17436536410844,
          308.39354100336874,
          309.57161006439287,
          310.1743430723587,
          310.8866638999546,
          311.4893969079204,
          311.9825420962561,
          312.2565116453315,
          312.9414355180199,
          312.996229427835,
          313.62635939070833,
          313.92772589469126,
          315.5715431891435,
          315.7359249185887,
          318.9413686427705,
          321.2975067648187,
          323.02351492399356,
          327.18785206993914,
          327.2700429346618,
          327.76318812299746,
          329.16043282328184,
          329.65357801161747,
          330.8316470726416,
          331.46177703551496,
          335.9000837305359,
          337.0507558366525,
          337.16034365628263,
          338.6671761761972,
          342.6123376828825,
          342.6945285476051,
          344.0095823831669,
          345.57120881289654,
          345.59860576780403,
          346.63969005429044,
          346.7492778739206,
          346.91365960336583,
          351.0232028394964,
          352.2834627652431,
          353.29715009682195,
          353.51632573608225,
          355.37931866979477,
          355.6806851737777,
          356.8039603249867,
          357.1875176936922,
          359.1600984470349,
          359.43406799611023,
          362.8586873595524,
          363.87237469113126,
          364.39291683437443,
          366.6394671367925,
          369.35176567263863,
          370.9407890572758,
          371.5983159750567,
          372.8311789458959,
          374.1462327814576,
          374.6393779697933,
          374.8585536090536,
          375.40649270720434,
          375.89963789554,
          377.15989782128673,
          380.694105004359,
          383.59818222455795,
          388.091282829394,
          388.6940158373598,
          390.28303922199694,
          390.66659659070245,
          395.84462106822696,
          398.77609524333343,
          399.81717952981984,
          400.47470644760074,
          405.6253339702177,
          406.2828608879986,
          410.7485645379271,
          419.0224449200033,
          419.59778097306156,
          424.2004693975278,
          424.721011540771,
          426.74838620392876,
          427.1593405275418,
          428.91274564162416,
          432.2825710952512,
          433.953785344611,
          435.40582395471046,
          437.8989468512963,
          438.6934585436149,
          438.7756494083375,
          442.09068095214946,
          445.8714607293896,
          451.2138669363593,
          454.6110893448939,
          462.2274428091892,
          467.8438185652343,
          473.3506065016492,
          478.99437921260187,
          480.17244827362595,
          484.25459455484895,
          503.5694477646626,
          511.92551901146135,
          513.076191117578,
          520.5281628524281,
          525.2404390965244,
          527.2678137596821,
          531.7609143645182,
          538.0074200834366,
          539.9800008367793,
          545.6785674575469,
          554.3907991181438,
          565.7057414949566,
          576.4727447736186,
          593.376665951569,
          602.4450580259638,
          613.7873973576841,
          629.1296921059047,
          631.5680210926756,
          642.5815969655055,
          643.2665208381939,
          646.6089493369134,
          680.4441886477216,
          729.8135013911034,
          752.799546558527,
          756.3885476514143,
          760.4159000228223,
          773.4020566489949,
          827.5932334561031,
          835.2643808302134,
          847.3464379444373,
          859.7572585175516,
          887.1268164701811,
          912.1676332556699,
          914.6881531071633,
          927.4003401842605,
          950.9617214047423,
          974.2217361212413,
          989.2900613203866,
          996.9064147846819,
          1026.0293778513937,
          1043.3990472627722,
          1068.2754823188159,
          1123.6721251418558,
          1126.0008663089966,
          1137.2610147759942,
          1199.1507359121204,
          1212.3286712226457,
          1221.5614450264857,
          1237.040724549244,
          1238.2461905651758,
          1258.2733646025854,
          1284.1634869902077,
          1289.2593206030097,
          1292.4647643271915,
          1323.0671629589103,
          1337.998503383518,
          1362.4639841159485,
          1365.0119009223495,
          1584.1875401826458,
          1628.4062254034106,
          1677.91252292133,
          1737.555693755038,
          1767.1444050551781,
          1902.129201884613,
          1941.772595635819,
          2084.8120972080696,
          2094.5380162002457,
          2130.7019966781945,
          2229.8789734434786,
          2288.864617359406,
          2331.9600274289614,
          2331.9600274289614,
          2396.7264288303795,
          2649.655116536761,
          2733.2706229145642,
          2806.6670651118557,
          2853.7624305979116,
          3013.2127081597773,
          3538.987669790321,
          3718.7390909386713,
          3909.531484914759,
          3952.3529254352397,
          4259.198820399654,
          4414.950509049002,
          4503.716642949422,
          4818.178891378132,
          4944.150090042987,
          5093.436097334156,
          5182.394009918929,
          5368.364539831291,
          5386.309545295728,
          5552.526870719755,
          5738.497400632116,
          5805.647337110489,
          5808.167856961983,
          5837.016850479619,
          6151.835259322127,
          6194.081363789549,
          6597.282349163772,
          6896.265318069723,
          6906.456985295327,
          6935.0046123089805,
          7508.121512019748,
          7518.3953701100745,
          7660.886932584174,
          8235.209298310874,
          8783.504556875412,
          9011.502015615935,
          9102.076348540253,
          9368.155574602253,
          9716.864016665384,
          10636.442808136864,
          19844.394970830617,
          23869.117234567435,
          50840.21387502171
         ],
         "yaxis": "y"
        }
       ],
       "layout": {
        "legend": {
         "itemsizing": "constant",
         "tracegroupgap": 0
        },
        "margin": {
         "t": 60
        },
        "template": {
         "data": {
          "bar": [
           {
            "error_x": {
             "color": "#2a3f5f"
            },
            "error_y": {
             "color": "#2a3f5f"
            },
            "marker": {
             "line": {
              "color": "#E5ECF6",
              "width": 0.5
             },
             "pattern": {
              "fillmode": "overlay",
              "size": 10,
              "solidity": 0.2
             }
            },
            "type": "bar"
           }
          ],
          "barpolar": [
           {
            "marker": {
             "line": {
              "color": "#E5ECF6",
              "width": 0.5
             },
             "pattern": {
              "fillmode": "overlay",
              "size": 10,
              "solidity": 0.2
             }
            },
            "type": "barpolar"
           }
          ],
          "carpet": [
           {
            "aaxis": {
             "endlinecolor": "#2a3f5f",
             "gridcolor": "white",
             "linecolor": "white",
             "minorgridcolor": "white",
             "startlinecolor": "#2a3f5f"
            },
            "baxis": {
             "endlinecolor": "#2a3f5f",
             "gridcolor": "white",
             "linecolor": "white",
             "minorgridcolor": "white",
             "startlinecolor": "#2a3f5f"
            },
            "type": "carpet"
           }
          ],
          "choropleth": [
           {
            "colorbar": {
             "outlinewidth": 0,
             "ticks": ""
            },
            "type": "choropleth"
           }
          ],
          "contour": [
           {
            "colorbar": {
             "outlinewidth": 0,
             "ticks": ""
            },
            "colorscale": [
             [
              0,
              "#0d0887"
             ],
             [
              0.1111111111111111,
              "#46039f"
             ],
             [
              0.2222222222222222,
              "#7201a8"
             ],
             [
              0.3333333333333333,
              "#9c179e"
             ],
             [
              0.4444444444444444,
              "#bd3786"
             ],
             [
              0.5555555555555556,
              "#d8576b"
             ],
             [
              0.6666666666666666,
              "#ed7953"
             ],
             [
              0.7777777777777778,
              "#fb9f3a"
             ],
             [
              0.8888888888888888,
              "#fdca26"
             ],
             [
              1,
              "#f0f921"
             ]
            ],
            "type": "contour"
           }
          ],
          "contourcarpet": [
           {
            "colorbar": {
             "outlinewidth": 0,
             "ticks": ""
            },
            "type": "contourcarpet"
           }
          ],
          "heatmap": [
           {
            "colorbar": {
             "outlinewidth": 0,
             "ticks": ""
            },
            "colorscale": [
             [
              0,
              "#0d0887"
             ],
             [
              0.1111111111111111,
              "#46039f"
             ],
             [
              0.2222222222222222,
              "#7201a8"
             ],
             [
              0.3333333333333333,
              "#9c179e"
             ],
             [
              0.4444444444444444,
              "#bd3786"
             ],
             [
              0.5555555555555556,
              "#d8576b"
             ],
             [
              0.6666666666666666,
              "#ed7953"
             ],
             [
              0.7777777777777778,
              "#fb9f3a"
             ],
             [
              0.8888888888888888,
              "#fdca26"
             ],
             [
              1,
              "#f0f921"
             ]
            ],
            "type": "heatmap"
           }
          ],
          "heatmapgl": [
           {
            "colorbar": {
             "outlinewidth": 0,
             "ticks": ""
            },
            "colorscale": [
             [
              0,
              "#0d0887"
             ],
             [
              0.1111111111111111,
              "#46039f"
             ],
             [
              0.2222222222222222,
              "#7201a8"
             ],
             [
              0.3333333333333333,
              "#9c179e"
             ],
             [
              0.4444444444444444,
              "#bd3786"
             ],
             [
              0.5555555555555556,
              "#d8576b"
             ],
             [
              0.6666666666666666,
              "#ed7953"
             ],
             [
              0.7777777777777778,
              "#fb9f3a"
             ],
             [
              0.8888888888888888,
              "#fdca26"
             ],
             [
              1,
              "#f0f921"
             ]
            ],
            "type": "heatmapgl"
           }
          ],
          "histogram": [
           {
            "marker": {
             "pattern": {
              "fillmode": "overlay",
              "size": 10,
              "solidity": 0.2
             }
            },
            "type": "histogram"
           }
          ],
          "histogram2d": [
           {
            "colorbar": {
             "outlinewidth": 0,
             "ticks": ""
            },
            "colorscale": [
             [
              0,
              "#0d0887"
             ],
             [
              0.1111111111111111,
              "#46039f"
             ],
             [
              0.2222222222222222,
              "#7201a8"
             ],
             [
              0.3333333333333333,
              "#9c179e"
             ],
             [
              0.4444444444444444,
              "#bd3786"
             ],
             [
              0.5555555555555556,
              "#d8576b"
             ],
             [
              0.6666666666666666,
              "#ed7953"
             ],
             [
              0.7777777777777778,
              "#fb9f3a"
             ],
             [
              0.8888888888888888,
              "#fdca26"
             ],
             [
              1,
              "#f0f921"
             ]
            ],
            "type": "histogram2d"
           }
          ],
          "histogram2dcontour": [
           {
            "colorbar": {
             "outlinewidth": 0,
             "ticks": ""
            },
            "colorscale": [
             [
              0,
              "#0d0887"
             ],
             [
              0.1111111111111111,
              "#46039f"
             ],
             [
              0.2222222222222222,
              "#7201a8"
             ],
             [
              0.3333333333333333,
              "#9c179e"
             ],
             [
              0.4444444444444444,
              "#bd3786"
             ],
             [
              0.5555555555555556,
              "#d8576b"
             ],
             [
              0.6666666666666666,
              "#ed7953"
             ],
             [
              0.7777777777777778,
              "#fb9f3a"
             ],
             [
              0.8888888888888888,
              "#fdca26"
             ],
             [
              1,
              "#f0f921"
             ]
            ],
            "type": "histogram2dcontour"
           }
          ],
          "mesh3d": [
           {
            "colorbar": {
             "outlinewidth": 0,
             "ticks": ""
            },
            "type": "mesh3d"
           }
          ],
          "parcoords": [
           {
            "line": {
             "colorbar": {
              "outlinewidth": 0,
              "ticks": ""
             }
            },
            "type": "parcoords"
           }
          ],
          "pie": [
           {
            "automargin": true,
            "type": "pie"
           }
          ],
          "scatter": [
           {
            "fillpattern": {
             "fillmode": "overlay",
             "size": 10,
             "solidity": 0.2
            },
            "type": "scatter"
           }
          ],
          "scatter3d": [
           {
            "line": {
             "colorbar": {
              "outlinewidth": 0,
              "ticks": ""
             }
            },
            "marker": {
             "colorbar": {
              "outlinewidth": 0,
              "ticks": ""
             }
            },
            "type": "scatter3d"
           }
          ],
          "scattercarpet": [
           {
            "marker": {
             "colorbar": {
              "outlinewidth": 0,
              "ticks": ""
             }
            },
            "type": "scattercarpet"
           }
          ],
          "scattergeo": [
           {
            "marker": {
             "colorbar": {
              "outlinewidth": 0,
              "ticks": ""
             }
            },
            "type": "scattergeo"
           }
          ],
          "scattergl": [
           {
            "marker": {
             "colorbar": {
              "outlinewidth": 0,
              "ticks": ""
             }
            },
            "type": "scattergl"
           }
          ],
          "scattermapbox": [
           {
            "marker": {
             "colorbar": {
              "outlinewidth": 0,
              "ticks": ""
             }
            },
            "type": "scattermapbox"
           }
          ],
          "scatterpolar": [
           {
            "marker": {
             "colorbar": {
              "outlinewidth": 0,
              "ticks": ""
             }
            },
            "type": "scatterpolar"
           }
          ],
          "scatterpolargl": [
           {
            "marker": {
             "colorbar": {
              "outlinewidth": 0,
              "ticks": ""
             }
            },
            "type": "scatterpolargl"
           }
          ],
          "scatterternary": [
           {
            "marker": {
             "colorbar": {
              "outlinewidth": 0,
              "ticks": ""
             }
            },
            "type": "scatterternary"
           }
          ],
          "surface": [
           {
            "colorbar": {
             "outlinewidth": 0,
             "ticks": ""
            },
            "colorscale": [
             [
              0,
              "#0d0887"
             ],
             [
              0.1111111111111111,
              "#46039f"
             ],
             [
              0.2222222222222222,
              "#7201a8"
             ],
             [
              0.3333333333333333,
              "#9c179e"
             ],
             [
              0.4444444444444444,
              "#bd3786"
             ],
             [
              0.5555555555555556,
              "#d8576b"
             ],
             [
              0.6666666666666666,
              "#ed7953"
             ],
             [
              0.7777777777777778,
              "#fb9f3a"
             ],
             [
              0.8888888888888888,
              "#fdca26"
             ],
             [
              1,
              "#f0f921"
             ]
            ],
            "type": "surface"
           }
          ],
          "table": [
           {
            "cells": {
             "fill": {
              "color": "#EBF0F8"
             },
             "line": {
              "color": "white"
             }
            },
            "header": {
             "fill": {
              "color": "#C8D4E3"
             },
             "line": {
              "color": "white"
             }
            },
            "type": "table"
           }
          ]
         },
         "layout": {
          "annotationdefaults": {
           "arrowcolor": "#2a3f5f",
           "arrowhead": 0,
           "arrowwidth": 1
          },
          "autotypenumbers": "strict",
          "coloraxis": {
           "colorbar": {
            "outlinewidth": 0,
            "ticks": ""
           }
          },
          "colorscale": {
           "diverging": [
            [
             0,
             "#8e0152"
            ],
            [
             0.1,
             "#c51b7d"
            ],
            [
             0.2,
             "#de77ae"
            ],
            [
             0.3,
             "#f1b6da"
            ],
            [
             0.4,
             "#fde0ef"
            ],
            [
             0.5,
             "#f7f7f7"
            ],
            [
             0.6,
             "#e6f5d0"
            ],
            [
             0.7,
             "#b8e186"
            ],
            [
             0.8,
             "#7fbc41"
            ],
            [
             0.9,
             "#4d9221"
            ],
            [
             1,
             "#276419"
            ]
           ],
           "sequential": [
            [
             0,
             "#0d0887"
            ],
            [
             0.1111111111111111,
             "#46039f"
            ],
            [
             0.2222222222222222,
             "#7201a8"
            ],
            [
             0.3333333333333333,
             "#9c179e"
            ],
            [
             0.4444444444444444,
             "#bd3786"
            ],
            [
             0.5555555555555556,
             "#d8576b"
            ],
            [
             0.6666666666666666,
             "#ed7953"
            ],
            [
             0.7777777777777778,
             "#fb9f3a"
            ],
            [
             0.8888888888888888,
             "#fdca26"
            ],
            [
             1,
             "#f0f921"
            ]
           ],
           "sequentialminus": [
            [
             0,
             "#0d0887"
            ],
            [
             0.1111111111111111,
             "#46039f"
            ],
            [
             0.2222222222222222,
             "#7201a8"
            ],
            [
             0.3333333333333333,
             "#9c179e"
            ],
            [
             0.4444444444444444,
             "#bd3786"
            ],
            [
             0.5555555555555556,
             "#d8576b"
            ],
            [
             0.6666666666666666,
             "#ed7953"
            ],
            [
             0.7777777777777778,
             "#fb9f3a"
            ],
            [
             0.8888888888888888,
             "#fdca26"
            ],
            [
             1,
             "#f0f921"
            ]
           ]
          },
          "colorway": [
           "#636efa",
           "#EF553B",
           "#00cc96",
           "#ab63fa",
           "#FFA15A",
           "#19d3f3",
           "#FF6692",
           "#B6E880",
           "#FF97FF",
           "#FECB52"
          ],
          "font": {
           "color": "#2a3f5f"
          },
          "geo": {
           "bgcolor": "white",
           "lakecolor": "white",
           "landcolor": "#E5ECF6",
           "showlakes": true,
           "showland": true,
           "subunitcolor": "white"
          },
          "hoverlabel": {
           "align": "left"
          },
          "hovermode": "closest",
          "mapbox": {
           "style": "light"
          },
          "paper_bgcolor": "white",
          "plot_bgcolor": "#E5ECF6",
          "polar": {
           "angularaxis": {
            "gridcolor": "white",
            "linecolor": "white",
            "ticks": ""
           },
           "bgcolor": "#E5ECF6",
           "radialaxis": {
            "gridcolor": "white",
            "linecolor": "white",
            "ticks": ""
           }
          },
          "scene": {
           "xaxis": {
            "backgroundcolor": "#E5ECF6",
            "gridcolor": "white",
            "gridwidth": 2,
            "linecolor": "white",
            "showbackground": true,
            "ticks": "",
            "zerolinecolor": "white"
           },
           "yaxis": {
            "backgroundcolor": "#E5ECF6",
            "gridcolor": "white",
            "gridwidth": 2,
            "linecolor": "white",
            "showbackground": true,
            "ticks": "",
            "zerolinecolor": "white"
           },
           "zaxis": {
            "backgroundcolor": "#E5ECF6",
            "gridcolor": "white",
            "gridwidth": 2,
            "linecolor": "white",
            "showbackground": true,
            "ticks": "",
            "zerolinecolor": "white"
           }
          },
          "shapedefaults": {
           "line": {
            "color": "#2a3f5f"
           }
          },
          "ternary": {
           "aaxis": {
            "gridcolor": "white",
            "linecolor": "white",
            "ticks": ""
           },
           "baxis": {
            "gridcolor": "white",
            "linecolor": "white",
            "ticks": ""
           },
           "bgcolor": "#E5ECF6",
           "caxis": {
            "gridcolor": "white",
            "linecolor": "white",
            "ticks": ""
           }
          },
          "title": {
           "x": 0.05
          },
          "xaxis": {
           "automargin": true,
           "gridcolor": "white",
           "linecolor": "white",
           "ticks": "",
           "title": {
            "standoff": 15
           },
           "zerolinecolor": "white",
           "zerolinewidth": 2
          },
          "yaxis": {
           "automargin": true,
           "gridcolor": "white",
           "linecolor": "white",
           "ticks": "",
           "title": {
            "standoff": 15
           },
           "zerolinecolor": "white",
           "zerolinewidth": 2
          }
         }
        },
        "title": {
         "text": "Relation of promoted_count with total_count"
        },
        "xaxis": {
         "anchor": "y",
         "domain": [
          0,
          1
         ],
         "title": {
          "text": "total_count"
         }
        },
        "yaxis": {
         "anchor": "x",
         "domain": [
          0,
          1
         ],
         "title": {
          "text": "promoted_count"
         }
        }
       }
      }
     },
     "metadata": {},
     "output_type": "display_data"
    }
   ],
   "source": [
    "helper.plot_linear_regressions(enhance(df).query(\"promoted_count > 0\"),\n",
    "                               x_axis=\"total_count\",\n",
    "                               y_axis=\"promoted_count\",\n",
    "                               ols=True)"
   ]
  },
  {
   "cell_type": "code",
   "execution_count": 6,
   "metadata": {},
   "outputs": [
    {
     "data": {
      "application/vnd.plotly.v1+json": {
       "config": {
        "plotlyServerURL": "https://plot.ly"
       },
       "data": [
        {
         "marker": {
          "color": "silver"
         },
         "name": "avg_price",
         "orientation": "v",
         "type": "bar",
         "x": [
          "BOOKS_AND_SCHOOL",
          "GIR_OTHER_CLOTHES",
          "GIRLS_CLOTHING",
          "CLOTHING_FOR_BOYS",
          "GIR_SETS",
          "CLO_SETS",
          "PREGNANCY_CLOTHES",
          "TOYS_AND_GAMES",
          "SHORTS_CAPRI_PANTS",
          "COSMETICS_AND_BEAUTY_PRODUCTS",
          "MOTHERHOOD_ACCESSORIES",
          "ALL_OTHERS",
          "CHILD_SAFETY",
          "BABY_CARE",
          "WOMENS",
          "MEN_TOPS_T_SHIRTS",
          "OUTDOOR_TOYS",
          "ACCESSORIES_JEWELLERY",
          "COSMETICS_AND_BEAUTY_ITEMS",
          "MEN_CLOTHING",
          "MEN_PULLOVERS_SWEATERS",
          "unknown",
          "MEN_TROUSERS",
          "MOVING_GEAR",
          "FOOTWEAR",
          "MEN_VESTS",
          "MEN_ACCESSORIES",
          "TRADITIONAL_NATIONAL_CLOTHING",
          "BAGS_BACKPACKS",
          "BABY_FURNITURE",
          "CHAIRS",
          "TABLES_FOR_DIAPERS_CHANGING",
          "MEN_OUTERWEAR",
          "MEN_SHOES_NEW",
          "STROLLERS",
          "MEN_FOOTWEAR"
         ],
         "xaxis": "x",
         "y": [
          6.5119987112521915,
          7.70136541,
          7.968560372076666,
          8.023723105715911,
          9.851823439,
          10.96353863,
          12.97937887613428,
          13.67457061666985,
          16.536384314009503,
          16.845410960358794,
          17.049197370847757,
          18.26906744,
          18.92604167,
          19.7282939082598,
          20.80660540976499,
          21.5891193,
          22.24524887,
          23.33692787546718,
          29.76959367861399,
          30.093298751607623,
          32.84451613,
          34.06739465,
          34.94748287597603,
          36.0031103657074,
          37.41249387672883,
          39.6437808,
          48.45842138848861,
          52.40153938,
          53.24754172192747,
          54.384787180637396,
          66.74269596249391,
          70.63223656,
          84.030706071058,
          87.62126212417579,
          124.14892768672831,
          143.13737065332725
         ],
         "yaxis": "y"
        },
        {
         "line": {
          "color": "blue"
         },
         "name": "promoted_rate",
         "type": "scatter",
         "x": [
          "BOOKS_AND_SCHOOL",
          "GIR_OTHER_CLOTHES",
          "GIRLS_CLOTHING",
          "CLOTHING_FOR_BOYS",
          "GIR_SETS",
          "CLO_SETS",
          "PREGNANCY_CLOTHES",
          "TOYS_AND_GAMES",
          "SHORTS_CAPRI_PANTS",
          "COSMETICS_AND_BEAUTY_PRODUCTS",
          "MOTHERHOOD_ACCESSORIES",
          "ALL_OTHERS",
          "CHILD_SAFETY",
          "BABY_CARE",
          "WOMENS",
          "MEN_TOPS_T_SHIRTS",
          "OUTDOOR_TOYS",
          "ACCESSORIES_JEWELLERY",
          "COSMETICS_AND_BEAUTY_ITEMS",
          "MEN_CLOTHING",
          "MEN_PULLOVERS_SWEATERS",
          "unknown",
          "MEN_TROUSERS",
          "MOVING_GEAR",
          "FOOTWEAR",
          "MEN_VESTS",
          "MEN_ACCESSORIES",
          "TRADITIONAL_NATIONAL_CLOTHING",
          "BAGS_BACKPACKS",
          "BABY_FURNITURE",
          "CHAIRS",
          "TABLES_FOR_DIAPERS_CHANGING",
          "MEN_OUTERWEAR",
          "MEN_SHOES_NEW",
          "STROLLERS",
          "MEN_FOOTWEAR"
         ],
         "xaxis": "x",
         "y": [
          0.007832187857961054,
          0.02340702210663199,
          0.016447060082294743,
          0.01707166962963049,
          0,
          0,
          0.028255539536634865,
          0.020511080610088984,
          0.015617042946868104,
          0.03786847190340946,
          0.03447255511170291,
          0.023314106672363454,
          0,
          0.03281604216967396,
          0.03495363681385463,
          0.02642113690952762,
          0.07239819004524888,
          0.031060892091159843,
          0.042437923250564336,
          0.02871392549900411,
          0.05228031145717464,
          0.03516764354565405,
          0.019691780821917807,
          0.0383448704985611,
          0.05983370376400474,
          0.039352703199705776,
          0.04101609623272326,
          0.07159904534606205,
          0.056209607340918476,
          0.05458860759493671,
          0.05846316131126258,
          0.04086021505376344,
          0.06409055581019948,
          0.05127117445773592,
          0.06824712643678162,
          0.06429778997402852
         ],
         "yaxis": "y2"
        }
       ],
       "layout": {
        "template": {
         "data": {
          "bar": [
           {
            "error_x": {
             "color": "#2a3f5f"
            },
            "error_y": {
             "color": "#2a3f5f"
            },
            "marker": {
             "line": {
              "color": "#E5ECF6",
              "width": 0.5
             },
             "pattern": {
              "fillmode": "overlay",
              "size": 10,
              "solidity": 0.2
             }
            },
            "type": "bar"
           }
          ],
          "barpolar": [
           {
            "marker": {
             "line": {
              "color": "#E5ECF6",
              "width": 0.5
             },
             "pattern": {
              "fillmode": "overlay",
              "size": 10,
              "solidity": 0.2
             }
            },
            "type": "barpolar"
           }
          ],
          "carpet": [
           {
            "aaxis": {
             "endlinecolor": "#2a3f5f",
             "gridcolor": "white",
             "linecolor": "white",
             "minorgridcolor": "white",
             "startlinecolor": "#2a3f5f"
            },
            "baxis": {
             "endlinecolor": "#2a3f5f",
             "gridcolor": "white",
             "linecolor": "white",
             "minorgridcolor": "white",
             "startlinecolor": "#2a3f5f"
            },
            "type": "carpet"
           }
          ],
          "choropleth": [
           {
            "colorbar": {
             "outlinewidth": 0,
             "ticks": ""
            },
            "type": "choropleth"
           }
          ],
          "contour": [
           {
            "colorbar": {
             "outlinewidth": 0,
             "ticks": ""
            },
            "colorscale": [
             [
              0,
              "#0d0887"
             ],
             [
              0.1111111111111111,
              "#46039f"
             ],
             [
              0.2222222222222222,
              "#7201a8"
             ],
             [
              0.3333333333333333,
              "#9c179e"
             ],
             [
              0.4444444444444444,
              "#bd3786"
             ],
             [
              0.5555555555555556,
              "#d8576b"
             ],
             [
              0.6666666666666666,
              "#ed7953"
             ],
             [
              0.7777777777777778,
              "#fb9f3a"
             ],
             [
              0.8888888888888888,
              "#fdca26"
             ],
             [
              1,
              "#f0f921"
             ]
            ],
            "type": "contour"
           }
          ],
          "contourcarpet": [
           {
            "colorbar": {
             "outlinewidth": 0,
             "ticks": ""
            },
            "type": "contourcarpet"
           }
          ],
          "heatmap": [
           {
            "colorbar": {
             "outlinewidth": 0,
             "ticks": ""
            },
            "colorscale": [
             [
              0,
              "#0d0887"
             ],
             [
              0.1111111111111111,
              "#46039f"
             ],
             [
              0.2222222222222222,
              "#7201a8"
             ],
             [
              0.3333333333333333,
              "#9c179e"
             ],
             [
              0.4444444444444444,
              "#bd3786"
             ],
             [
              0.5555555555555556,
              "#d8576b"
             ],
             [
              0.6666666666666666,
              "#ed7953"
             ],
             [
              0.7777777777777778,
              "#fb9f3a"
             ],
             [
              0.8888888888888888,
              "#fdca26"
             ],
             [
              1,
              "#f0f921"
             ]
            ],
            "type": "heatmap"
           }
          ],
          "heatmapgl": [
           {
            "colorbar": {
             "outlinewidth": 0,
             "ticks": ""
            },
            "colorscale": [
             [
              0,
              "#0d0887"
             ],
             [
              0.1111111111111111,
              "#46039f"
             ],
             [
              0.2222222222222222,
              "#7201a8"
             ],
             [
              0.3333333333333333,
              "#9c179e"
             ],
             [
              0.4444444444444444,
              "#bd3786"
             ],
             [
              0.5555555555555556,
              "#d8576b"
             ],
             [
              0.6666666666666666,
              "#ed7953"
             ],
             [
              0.7777777777777778,
              "#fb9f3a"
             ],
             [
              0.8888888888888888,
              "#fdca26"
             ],
             [
              1,
              "#f0f921"
             ]
            ],
            "type": "heatmapgl"
           }
          ],
          "histogram": [
           {
            "marker": {
             "pattern": {
              "fillmode": "overlay",
              "size": 10,
              "solidity": 0.2
             }
            },
            "type": "histogram"
           }
          ],
          "histogram2d": [
           {
            "colorbar": {
             "outlinewidth": 0,
             "ticks": ""
            },
            "colorscale": [
             [
              0,
              "#0d0887"
             ],
             [
              0.1111111111111111,
              "#46039f"
             ],
             [
              0.2222222222222222,
              "#7201a8"
             ],
             [
              0.3333333333333333,
              "#9c179e"
             ],
             [
              0.4444444444444444,
              "#bd3786"
             ],
             [
              0.5555555555555556,
              "#d8576b"
             ],
             [
              0.6666666666666666,
              "#ed7953"
             ],
             [
              0.7777777777777778,
              "#fb9f3a"
             ],
             [
              0.8888888888888888,
              "#fdca26"
             ],
             [
              1,
              "#f0f921"
             ]
            ],
            "type": "histogram2d"
           }
          ],
          "histogram2dcontour": [
           {
            "colorbar": {
             "outlinewidth": 0,
             "ticks": ""
            },
            "colorscale": [
             [
              0,
              "#0d0887"
             ],
             [
              0.1111111111111111,
              "#46039f"
             ],
             [
              0.2222222222222222,
              "#7201a8"
             ],
             [
              0.3333333333333333,
              "#9c179e"
             ],
             [
              0.4444444444444444,
              "#bd3786"
             ],
             [
              0.5555555555555556,
              "#d8576b"
             ],
             [
              0.6666666666666666,
              "#ed7953"
             ],
             [
              0.7777777777777778,
              "#fb9f3a"
             ],
             [
              0.8888888888888888,
              "#fdca26"
             ],
             [
              1,
              "#f0f921"
             ]
            ],
            "type": "histogram2dcontour"
           }
          ],
          "mesh3d": [
           {
            "colorbar": {
             "outlinewidth": 0,
             "ticks": ""
            },
            "type": "mesh3d"
           }
          ],
          "parcoords": [
           {
            "line": {
             "colorbar": {
              "outlinewidth": 0,
              "ticks": ""
             }
            },
            "type": "parcoords"
           }
          ],
          "pie": [
           {
            "automargin": true,
            "type": "pie"
           }
          ],
          "scatter": [
           {
            "fillpattern": {
             "fillmode": "overlay",
             "size": 10,
             "solidity": 0.2
            },
            "type": "scatter"
           }
          ],
          "scatter3d": [
           {
            "line": {
             "colorbar": {
              "outlinewidth": 0,
              "ticks": ""
             }
            },
            "marker": {
             "colorbar": {
              "outlinewidth": 0,
              "ticks": ""
             }
            },
            "type": "scatter3d"
           }
          ],
          "scattercarpet": [
           {
            "marker": {
             "colorbar": {
              "outlinewidth": 0,
              "ticks": ""
             }
            },
            "type": "scattercarpet"
           }
          ],
          "scattergeo": [
           {
            "marker": {
             "colorbar": {
              "outlinewidth": 0,
              "ticks": ""
             }
            },
            "type": "scattergeo"
           }
          ],
          "scattergl": [
           {
            "marker": {
             "colorbar": {
              "outlinewidth": 0,
              "ticks": ""
             }
            },
            "type": "scattergl"
           }
          ],
          "scattermapbox": [
           {
            "marker": {
             "colorbar": {
              "outlinewidth": 0,
              "ticks": ""
             }
            },
            "type": "scattermapbox"
           }
          ],
          "scatterpolar": [
           {
            "marker": {
             "colorbar": {
              "outlinewidth": 0,
              "ticks": ""
             }
            },
            "type": "scatterpolar"
           }
          ],
          "scatterpolargl": [
           {
            "marker": {
             "colorbar": {
              "outlinewidth": 0,
              "ticks": ""
             }
            },
            "type": "scatterpolargl"
           }
          ],
          "scatterternary": [
           {
            "marker": {
             "colorbar": {
              "outlinewidth": 0,
              "ticks": ""
             }
            },
            "type": "scatterternary"
           }
          ],
          "surface": [
           {
            "colorbar": {
             "outlinewidth": 0,
             "ticks": ""
            },
            "colorscale": [
             [
              0,
              "#0d0887"
             ],
             [
              0.1111111111111111,
              "#46039f"
             ],
             [
              0.2222222222222222,
              "#7201a8"
             ],
             [
              0.3333333333333333,
              "#9c179e"
             ],
             [
              0.4444444444444444,
              "#bd3786"
             ],
             [
              0.5555555555555556,
              "#d8576b"
             ],
             [
              0.6666666666666666,
              "#ed7953"
             ],
             [
              0.7777777777777778,
              "#fb9f3a"
             ],
             [
              0.8888888888888888,
              "#fdca26"
             ],
             [
              1,
              "#f0f921"
             ]
            ],
            "type": "surface"
           }
          ],
          "table": [
           {
            "cells": {
             "fill": {
              "color": "#EBF0F8"
             },
             "line": {
              "color": "white"
             }
            },
            "header": {
             "fill": {
              "color": "#C8D4E3"
             },
             "line": {
              "color": "white"
             }
            },
            "type": "table"
           }
          ]
         },
         "layout": {
          "annotationdefaults": {
           "arrowcolor": "#2a3f5f",
           "arrowhead": 0,
           "arrowwidth": 1
          },
          "autotypenumbers": "strict",
          "coloraxis": {
           "colorbar": {
            "outlinewidth": 0,
            "ticks": ""
           }
          },
          "colorscale": {
           "diverging": [
            [
             0,
             "#8e0152"
            ],
            [
             0.1,
             "#c51b7d"
            ],
            [
             0.2,
             "#de77ae"
            ],
            [
             0.3,
             "#f1b6da"
            ],
            [
             0.4,
             "#fde0ef"
            ],
            [
             0.5,
             "#f7f7f7"
            ],
            [
             0.6,
             "#e6f5d0"
            ],
            [
             0.7,
             "#b8e186"
            ],
            [
             0.8,
             "#7fbc41"
            ],
            [
             0.9,
             "#4d9221"
            ],
            [
             1,
             "#276419"
            ]
           ],
           "sequential": [
            [
             0,
             "#0d0887"
            ],
            [
             0.1111111111111111,
             "#46039f"
            ],
            [
             0.2222222222222222,
             "#7201a8"
            ],
            [
             0.3333333333333333,
             "#9c179e"
            ],
            [
             0.4444444444444444,
             "#bd3786"
            ],
            [
             0.5555555555555556,
             "#d8576b"
            ],
            [
             0.6666666666666666,
             "#ed7953"
            ],
            [
             0.7777777777777778,
             "#fb9f3a"
            ],
            [
             0.8888888888888888,
             "#fdca26"
            ],
            [
             1,
             "#f0f921"
            ]
           ],
           "sequentialminus": [
            [
             0,
             "#0d0887"
            ],
            [
             0.1111111111111111,
             "#46039f"
            ],
            [
             0.2222222222222222,
             "#7201a8"
            ],
            [
             0.3333333333333333,
             "#9c179e"
            ],
            [
             0.4444444444444444,
             "#bd3786"
            ],
            [
             0.5555555555555556,
             "#d8576b"
            ],
            [
             0.6666666666666666,
             "#ed7953"
            ],
            [
             0.7777777777777778,
             "#fb9f3a"
            ],
            [
             0.8888888888888888,
             "#fdca26"
            ],
            [
             1,
             "#f0f921"
            ]
           ]
          },
          "colorway": [
           "#636efa",
           "#EF553B",
           "#00cc96",
           "#ab63fa",
           "#FFA15A",
           "#19d3f3",
           "#FF6692",
           "#B6E880",
           "#FF97FF",
           "#FECB52"
          ],
          "font": {
           "color": "#2a3f5f"
          },
          "geo": {
           "bgcolor": "white",
           "lakecolor": "white",
           "landcolor": "#E5ECF6",
           "showlakes": true,
           "showland": true,
           "subunitcolor": "white"
          },
          "hoverlabel": {
           "align": "left"
          },
          "hovermode": "closest",
          "mapbox": {
           "style": "light"
          },
          "paper_bgcolor": "white",
          "plot_bgcolor": "#E5ECF6",
          "polar": {
           "angularaxis": {
            "gridcolor": "white",
            "linecolor": "white",
            "ticks": ""
           },
           "bgcolor": "#E5ECF6",
           "radialaxis": {
            "gridcolor": "white",
            "linecolor": "white",
            "ticks": ""
           }
          },
          "scene": {
           "xaxis": {
            "backgroundcolor": "#E5ECF6",
            "gridcolor": "white",
            "gridwidth": 2,
            "linecolor": "white",
            "showbackground": true,
            "ticks": "",
            "zerolinecolor": "white"
           },
           "yaxis": {
            "backgroundcolor": "#E5ECF6",
            "gridcolor": "white",
            "gridwidth": 2,
            "linecolor": "white",
            "showbackground": true,
            "ticks": "",
            "zerolinecolor": "white"
           },
           "zaxis": {
            "backgroundcolor": "#E5ECF6",
            "gridcolor": "white",
            "gridwidth": 2,
            "linecolor": "white",
            "showbackground": true,
            "ticks": "",
            "zerolinecolor": "white"
           }
          },
          "shapedefaults": {
           "line": {
            "color": "#2a3f5f"
           }
          },
          "ternary": {
           "aaxis": {
            "gridcolor": "white",
            "linecolor": "white",
            "ticks": ""
           },
           "baxis": {
            "gridcolor": "white",
            "linecolor": "white",
            "ticks": ""
           },
           "bgcolor": "#E5ECF6",
           "caxis": {
            "gridcolor": "white",
            "linecolor": "white",
            "ticks": ""
           }
          },
          "title": {
           "x": 0.05
          },
          "xaxis": {
           "automargin": true,
           "gridcolor": "white",
           "linecolor": "white",
           "ticks": "",
           "title": {
            "standoff": 15
           },
           "zerolinecolor": "white",
           "zerolinewidth": 2
          },
          "yaxis": {
           "automargin": true,
           "gridcolor": "white",
           "linecolor": "white",
           "ticks": "",
           "title": {
            "standoff": 15
           },
           "zerolinecolor": "white",
           "zerolinewidth": 2
          }
         }
        },
        "title": {
         "text": "avg_price and promoted_rate"
        },
        "xaxis": {
         "anchor": "y",
         "domain": [
          0,
          0.94
         ],
         "title": {
          "text": "category"
         }
        },
        "yaxis": {
         "anchor": "x",
         "domain": [
          0,
          1
         ],
         "showgrid": false,
         "title": {
          "text": "avg_price"
         },
         "zeroline": false
        },
        "yaxis2": {
         "anchor": "x",
         "overlaying": "y",
         "showgrid": false,
         "side": "right",
         "title": {
          "text": "promoted_rate"
         },
         "zeroline": false
        }
       }
      }
     },
     "metadata": {},
     "output_type": "display_data"
    }
   ],
   "source": [
    "helper.plot_combo_box(df=enhance(df.groupby(\"category\").sum().reset_index()),\n",
    "                      x_axis=\"category\",\n",
    "                      y1=\"avg_price\",\n",
    "                      y2=\"promoted_rate\",\n",
    "                      sort_by=\"avg_price\")"
   ]
  },
  {
   "cell_type": "code",
   "execution_count": 7,
   "metadata": {},
   "outputs": [
    {
     "data": {
      "application/vnd.plotly.v1+json": {
       "config": {
        "plotlyServerURL": "https://plot.ly"
       },
       "data": [
        {
         "alignmentgroup": "True",
         "hovertemplate": "Bins=%{x}<br>total_count=%{y}<br>perc_total=%{text}<extra></extra>",
         "legendgroup": "",
         "marker": {
          "color": "#636efa",
          "pattern": {
           "shape": ""
          }
         },
         "name": "",
         "offsetgroup": "",
         "orientation": "v",
         "showlegend": false,
         "text": [
          "% 0.0",
          "% 0.48",
          "% 12.01",
          "% 5.92",
          "% 2.43",
          "% 19.75",
          "% 10.73",
          "% 9.09",
          "% 4.27",
          "% 5.12",
          "% 1.32",
          "% 1.77",
          "% 1.84",
          "% 0.68",
          "% 0.43",
          "% 0.62",
          "% 0.79",
          "% 3.45",
          "% 0.11",
          "% 6.69",
          "% 0.0",
          "% 0.76",
          "% 0.68",
          "% 3.1",
          "% 0.86",
          "% 2.36",
          "% 0.21",
          "% 0.03",
          "% 0.0",
          "% 0.0",
          "% 0.07",
          "% 0.03",
          "% 0.06",
          "% 0.78",
          "% 1.36",
          "% 0.0",
          "% 0.0",
          "% 0.08",
          "% 0.15",
          "% 0.0",
          "% 0.0",
          "% 0.0",
          "% 0.27",
          "% 0.0",
          "% 0.0",
          "% 0.12",
          "% 0.0",
          "% 0.0",
          "% 0.19",
          "% 0.0",
          "% 0.02",
          "% 0.03",
          "% 0.0",
          "% 0.03",
          "% 0.0",
          "% 0.0",
          "% 0.0",
          "% 0.0",
          "% 0.0",
          "% 0.03",
          "% 0.0",
          "% 0.0",
          "% 0.0",
          "% 0.0",
          "% 0.0",
          "% 0.0",
          "% 0.0",
          "% 0.0",
          "% 0.0",
          "% 0.0",
          "% 0.0",
          "% 0.0",
          "% 0.0",
          "% 0.0",
          "% 1.08",
          "% 0.0",
          "% 0.0",
          "% 0.0",
          "% 0.0",
          "% 0.0",
          "% 0.0",
          "% 0.0",
          "% 0.0",
          "% 0.0",
          "% 0.0",
          "% 0.0",
          "% 0.0",
          "% 0.0",
          "% 0.0",
          "% 0.0",
          "% 0.0",
          "% 0.0",
          "% 0.0",
          "% 0.0",
          "% 0.0",
          "% 0.0",
          "% 0.0",
          "% 0.0",
          "% 0.0",
          "% 0.02",
          "% 0.0",
          "% 0.0",
          "% 0.0",
          "% 0.0",
          "% 0.0",
          "% 0.0",
          "% 0.0",
          "% 0.0",
          "% 0.0",
          "% 0.0",
          "% 0.0",
          "% 0.0",
          "% 0.14",
          "% 0.0",
          "% 0.0",
          "% 0.0",
          "% 0.0",
          "% 0.0",
          "% 0.0",
          "% 0.0",
          "% 0.0",
          "% 0.0",
          "% 0.0",
          "% 0.0",
          "% 0.0",
          "% 0.0",
          "% 0.0",
          "% 0.0",
          "% 0.0",
          "% 0.0",
          "% 0.0",
          "% 0.0",
          "% 0.0",
          "% 0.0",
          "% 0.0",
          "% 0.0",
          "% 0.0",
          "% 0.0",
          "% 0.0",
          "% 0.0",
          "% 0.0",
          "% 0.0",
          "% 0.0",
          "% 0.0",
          "% 0.0",
          "% 0.0",
          "% 0.0",
          "% 0.0",
          "% 0.0",
          "% 0.0",
          "% 0.0",
          "% 0.0",
          "% 0.0",
          "% 0.0",
          "% 0.0",
          "% 0.0",
          "% 0.0",
          "% 0.0",
          "% 0.0",
          "% 0.0",
          "% 0.0",
          "% 0.0",
          "% 0.0",
          "% 0.0",
          "% 0.01"
         ],
         "textposition": "auto",
         "type": "bar",
         "x": [
          "0",
          "1",
          "2",
          "3",
          "4",
          "5",
          "6",
          "7",
          "8",
          "9",
          "10",
          "11",
          "12",
          "13",
          "14",
          "15",
          "16",
          "17",
          "18",
          "19",
          "20",
          "21",
          "22",
          "23",
          "24",
          "25",
          "26",
          "27",
          "28",
          "29",
          "30",
          "31",
          "32",
          "33",
          "34",
          "35",
          "36",
          "37",
          "38",
          "39",
          "40",
          "41",
          "42",
          "43",
          "44",
          "45",
          "46",
          "47",
          "48",
          "49",
          "50",
          "51",
          "52",
          "53",
          "54",
          "55",
          "56",
          "57",
          "58",
          "59",
          "60",
          "61",
          "62",
          "63",
          "64",
          "65",
          "66",
          "67",
          "68",
          "69",
          "70",
          "71",
          "72",
          "73",
          "74",
          "75",
          "76",
          "77",
          "78",
          "79",
          "80",
          "81",
          "82",
          "83",
          "84",
          "85",
          "86",
          "87",
          "88",
          "89",
          "90",
          "91",
          "92",
          "93",
          "94",
          "95",
          "96",
          "97",
          "98",
          "99",
          "100",
          "101",
          "102",
          "103",
          "104",
          "105",
          "106",
          "107",
          "108",
          "109",
          "110",
          "111",
          "112",
          "113",
          "114",
          "115",
          "116",
          "117",
          "118",
          "119",
          "120",
          "121",
          "122",
          "123",
          "124",
          "125",
          "126",
          "127",
          "128",
          "129",
          "130",
          "131",
          "132",
          "133",
          "134",
          "135",
          "136",
          "137",
          "138",
          "139",
          "140",
          "141",
          "142",
          "143",
          "144",
          "145",
          "146",
          "147",
          "148",
          "149",
          "150",
          "151",
          "152",
          "153",
          "154",
          "155",
          "156",
          "157",
          "158",
          "159",
          "160",
          "161",
          "162",
          "163",
          "164"
         ],
         "xaxis": "x",
         "y": [
          0,
          65557,
          1647145,
          811512,
          332702,
          2708044,
          1471235,
          1246176,
          586051,
          702138,
          181204,
          242658,
          251979,
          93796,
          59322,
          85660,
          107685,
          472567,
          15462,
          917631,
          0,
          104311,
          93169,
          425266,
          117998,
          323128,
          28583,
          4307,
          348,
          0,
          9646,
          4226,
          8704,
          107592,
          186019,
          465,
          0,
          10623,
          21058,
          0,
          0,
          33,
          37661,
          0,
          0,
          16316,
          0,
          0,
          26688,
          0,
          3083,
          4139,
          0,
          3441,
          0,
          0,
          0,
          0,
          0,
          4602,
          0,
          0,
          0,
          0,
          0,
          0,
          0,
          0,
          0,
          0,
          0,
          0,
          0,
          0,
          147882,
          0,
          0,
          0,
          0,
          0,
          0,
          0,
          0,
          0,
          0,
          0,
          0,
          0,
          0,
          0,
          0,
          0,
          0,
          0,
          0,
          0,
          0,
          0,
          0,
          2544,
          0,
          0,
          0,
          0,
          0,
          0,
          0,
          0,
          0,
          0,
          0,
          0,
          19311,
          0,
          0,
          0,
          0,
          0,
          0,
          0,
          0,
          0,
          0,
          0,
          0,
          0,
          0,
          0,
          0,
          0,
          0,
          0,
          0,
          0,
          0,
          0,
          0,
          0,
          0,
          0,
          0,
          0,
          0,
          0,
          0,
          0,
          0,
          0,
          0,
          1,
          0,
          0,
          0,
          0,
          0,
          0,
          0,
          0,
          0,
          0,
          0,
          0,
          0,
          0,
          1719
         ],
         "yaxis": "y"
        }
       ],
       "layout": {
        "barmode": "relative",
        "legend": {
         "tracegroupgap": 0
        },
        "template": {
         "data": {
          "bar": [
           {
            "error_x": {
             "color": "#2a3f5f"
            },
            "error_y": {
             "color": "#2a3f5f"
            },
            "marker": {
             "line": {
              "color": "#E5ECF6",
              "width": 0.5
             },
             "pattern": {
              "fillmode": "overlay",
              "size": 10,
              "solidity": 0.2
             }
            },
            "type": "bar"
           }
          ],
          "barpolar": [
           {
            "marker": {
             "line": {
              "color": "#E5ECF6",
              "width": 0.5
             },
             "pattern": {
              "fillmode": "overlay",
              "size": 10,
              "solidity": 0.2
             }
            },
            "type": "barpolar"
           }
          ],
          "carpet": [
           {
            "aaxis": {
             "endlinecolor": "#2a3f5f",
             "gridcolor": "white",
             "linecolor": "white",
             "minorgridcolor": "white",
             "startlinecolor": "#2a3f5f"
            },
            "baxis": {
             "endlinecolor": "#2a3f5f",
             "gridcolor": "white",
             "linecolor": "white",
             "minorgridcolor": "white",
             "startlinecolor": "#2a3f5f"
            },
            "type": "carpet"
           }
          ],
          "choropleth": [
           {
            "colorbar": {
             "outlinewidth": 0,
             "ticks": ""
            },
            "type": "choropleth"
           }
          ],
          "contour": [
           {
            "colorbar": {
             "outlinewidth": 0,
             "ticks": ""
            },
            "colorscale": [
             [
              0,
              "#0d0887"
             ],
             [
              0.1111111111111111,
              "#46039f"
             ],
             [
              0.2222222222222222,
              "#7201a8"
             ],
             [
              0.3333333333333333,
              "#9c179e"
             ],
             [
              0.4444444444444444,
              "#bd3786"
             ],
             [
              0.5555555555555556,
              "#d8576b"
             ],
             [
              0.6666666666666666,
              "#ed7953"
             ],
             [
              0.7777777777777778,
              "#fb9f3a"
             ],
             [
              0.8888888888888888,
              "#fdca26"
             ],
             [
              1,
              "#f0f921"
             ]
            ],
            "type": "contour"
           }
          ],
          "contourcarpet": [
           {
            "colorbar": {
             "outlinewidth": 0,
             "ticks": ""
            },
            "type": "contourcarpet"
           }
          ],
          "heatmap": [
           {
            "colorbar": {
             "outlinewidth": 0,
             "ticks": ""
            },
            "colorscale": [
             [
              0,
              "#0d0887"
             ],
             [
              0.1111111111111111,
              "#46039f"
             ],
             [
              0.2222222222222222,
              "#7201a8"
             ],
             [
              0.3333333333333333,
              "#9c179e"
             ],
             [
              0.4444444444444444,
              "#bd3786"
             ],
             [
              0.5555555555555556,
              "#d8576b"
             ],
             [
              0.6666666666666666,
              "#ed7953"
             ],
             [
              0.7777777777777778,
              "#fb9f3a"
             ],
             [
              0.8888888888888888,
              "#fdca26"
             ],
             [
              1,
              "#f0f921"
             ]
            ],
            "type": "heatmap"
           }
          ],
          "heatmapgl": [
           {
            "colorbar": {
             "outlinewidth": 0,
             "ticks": ""
            },
            "colorscale": [
             [
              0,
              "#0d0887"
             ],
             [
              0.1111111111111111,
              "#46039f"
             ],
             [
              0.2222222222222222,
              "#7201a8"
             ],
             [
              0.3333333333333333,
              "#9c179e"
             ],
             [
              0.4444444444444444,
              "#bd3786"
             ],
             [
              0.5555555555555556,
              "#d8576b"
             ],
             [
              0.6666666666666666,
              "#ed7953"
             ],
             [
              0.7777777777777778,
              "#fb9f3a"
             ],
             [
              0.8888888888888888,
              "#fdca26"
             ],
             [
              1,
              "#f0f921"
             ]
            ],
            "type": "heatmapgl"
           }
          ],
          "histogram": [
           {
            "marker": {
             "pattern": {
              "fillmode": "overlay",
              "size": 10,
              "solidity": 0.2
             }
            },
            "type": "histogram"
           }
          ],
          "histogram2d": [
           {
            "colorbar": {
             "outlinewidth": 0,
             "ticks": ""
            },
            "colorscale": [
             [
              0,
              "#0d0887"
             ],
             [
              0.1111111111111111,
              "#46039f"
             ],
             [
              0.2222222222222222,
              "#7201a8"
             ],
             [
              0.3333333333333333,
              "#9c179e"
             ],
             [
              0.4444444444444444,
              "#bd3786"
             ],
             [
              0.5555555555555556,
              "#d8576b"
             ],
             [
              0.6666666666666666,
              "#ed7953"
             ],
             [
              0.7777777777777778,
              "#fb9f3a"
             ],
             [
              0.8888888888888888,
              "#fdca26"
             ],
             [
              1,
              "#f0f921"
             ]
            ],
            "type": "histogram2d"
           }
          ],
          "histogram2dcontour": [
           {
            "colorbar": {
             "outlinewidth": 0,
             "ticks": ""
            },
            "colorscale": [
             [
              0,
              "#0d0887"
             ],
             [
              0.1111111111111111,
              "#46039f"
             ],
             [
              0.2222222222222222,
              "#7201a8"
             ],
             [
              0.3333333333333333,
              "#9c179e"
             ],
             [
              0.4444444444444444,
              "#bd3786"
             ],
             [
              0.5555555555555556,
              "#d8576b"
             ],
             [
              0.6666666666666666,
              "#ed7953"
             ],
             [
              0.7777777777777778,
              "#fb9f3a"
             ],
             [
              0.8888888888888888,
              "#fdca26"
             ],
             [
              1,
              "#f0f921"
             ]
            ],
            "type": "histogram2dcontour"
           }
          ],
          "mesh3d": [
           {
            "colorbar": {
             "outlinewidth": 0,
             "ticks": ""
            },
            "type": "mesh3d"
           }
          ],
          "parcoords": [
           {
            "line": {
             "colorbar": {
              "outlinewidth": 0,
              "ticks": ""
             }
            },
            "type": "parcoords"
           }
          ],
          "pie": [
           {
            "automargin": true,
            "type": "pie"
           }
          ],
          "scatter": [
           {
            "fillpattern": {
             "fillmode": "overlay",
             "size": 10,
             "solidity": 0.2
            },
            "type": "scatter"
           }
          ],
          "scatter3d": [
           {
            "line": {
             "colorbar": {
              "outlinewidth": 0,
              "ticks": ""
             }
            },
            "marker": {
             "colorbar": {
              "outlinewidth": 0,
              "ticks": ""
             }
            },
            "type": "scatter3d"
           }
          ],
          "scattercarpet": [
           {
            "marker": {
             "colorbar": {
              "outlinewidth": 0,
              "ticks": ""
             }
            },
            "type": "scattercarpet"
           }
          ],
          "scattergeo": [
           {
            "marker": {
             "colorbar": {
              "outlinewidth": 0,
              "ticks": ""
             }
            },
            "type": "scattergeo"
           }
          ],
          "scattergl": [
           {
            "marker": {
             "colorbar": {
              "outlinewidth": 0,
              "ticks": ""
             }
            },
            "type": "scattergl"
           }
          ],
          "scattermapbox": [
           {
            "marker": {
             "colorbar": {
              "outlinewidth": 0,
              "ticks": ""
             }
            },
            "type": "scattermapbox"
           }
          ],
          "scatterpolar": [
           {
            "marker": {
             "colorbar": {
              "outlinewidth": 0,
              "ticks": ""
             }
            },
            "type": "scatterpolar"
           }
          ],
          "scatterpolargl": [
           {
            "marker": {
             "colorbar": {
              "outlinewidth": 0,
              "ticks": ""
             }
            },
            "type": "scatterpolargl"
           }
          ],
          "scatterternary": [
           {
            "marker": {
             "colorbar": {
              "outlinewidth": 0,
              "ticks": ""
             }
            },
            "type": "scatterternary"
           }
          ],
          "surface": [
           {
            "colorbar": {
             "outlinewidth": 0,
             "ticks": ""
            },
            "colorscale": [
             [
              0,
              "#0d0887"
             ],
             [
              0.1111111111111111,
              "#46039f"
             ],
             [
              0.2222222222222222,
              "#7201a8"
             ],
             [
              0.3333333333333333,
              "#9c179e"
             ],
             [
              0.4444444444444444,
              "#bd3786"
             ],
             [
              0.5555555555555556,
              "#d8576b"
             ],
             [
              0.6666666666666666,
              "#ed7953"
             ],
             [
              0.7777777777777778,
              "#fb9f3a"
             ],
             [
              0.8888888888888888,
              "#fdca26"
             ],
             [
              1,
              "#f0f921"
             ]
            ],
            "type": "surface"
           }
          ],
          "table": [
           {
            "cells": {
             "fill": {
              "color": "#EBF0F8"
             },
             "line": {
              "color": "white"
             }
            },
            "header": {
             "fill": {
              "color": "#C8D4E3"
             },
             "line": {
              "color": "white"
             }
            },
            "type": "table"
           }
          ]
         },
         "layout": {
          "annotationdefaults": {
           "arrowcolor": "#2a3f5f",
           "arrowhead": 0,
           "arrowwidth": 1
          },
          "autotypenumbers": "strict",
          "coloraxis": {
           "colorbar": {
            "outlinewidth": 0,
            "ticks": ""
           }
          },
          "colorscale": {
           "diverging": [
            [
             0,
             "#8e0152"
            ],
            [
             0.1,
             "#c51b7d"
            ],
            [
             0.2,
             "#de77ae"
            ],
            [
             0.3,
             "#f1b6da"
            ],
            [
             0.4,
             "#fde0ef"
            ],
            [
             0.5,
             "#f7f7f7"
            ],
            [
             0.6,
             "#e6f5d0"
            ],
            [
             0.7,
             "#b8e186"
            ],
            [
             0.8,
             "#7fbc41"
            ],
            [
             0.9,
             "#4d9221"
            ],
            [
             1,
             "#276419"
            ]
           ],
           "sequential": [
            [
             0,
             "#0d0887"
            ],
            [
             0.1111111111111111,
             "#46039f"
            ],
            [
             0.2222222222222222,
             "#7201a8"
            ],
            [
             0.3333333333333333,
             "#9c179e"
            ],
            [
             0.4444444444444444,
             "#bd3786"
            ],
            [
             0.5555555555555556,
             "#d8576b"
            ],
            [
             0.6666666666666666,
             "#ed7953"
            ],
            [
             0.7777777777777778,
             "#fb9f3a"
            ],
            [
             0.8888888888888888,
             "#fdca26"
            ],
            [
             1,
             "#f0f921"
            ]
           ],
           "sequentialminus": [
            [
             0,
             "#0d0887"
            ],
            [
             0.1111111111111111,
             "#46039f"
            ],
            [
             0.2222222222222222,
             "#7201a8"
            ],
            [
             0.3333333333333333,
             "#9c179e"
            ],
            [
             0.4444444444444444,
             "#bd3786"
            ],
            [
             0.5555555555555556,
             "#d8576b"
            ],
            [
             0.6666666666666666,
             "#ed7953"
            ],
            [
             0.7777777777777778,
             "#fb9f3a"
            ],
            [
             0.8888888888888888,
             "#fdca26"
            ],
            [
             1,
             "#f0f921"
            ]
           ]
          },
          "colorway": [
           "#636efa",
           "#EF553B",
           "#00cc96",
           "#ab63fa",
           "#FFA15A",
           "#19d3f3",
           "#FF6692",
           "#B6E880",
           "#FF97FF",
           "#FECB52"
          ],
          "font": {
           "color": "#2a3f5f"
          },
          "geo": {
           "bgcolor": "white",
           "lakecolor": "white",
           "landcolor": "#E5ECF6",
           "showlakes": true,
           "showland": true,
           "subunitcolor": "white"
          },
          "hoverlabel": {
           "align": "left"
          },
          "hovermode": "closest",
          "mapbox": {
           "style": "light"
          },
          "paper_bgcolor": "white",
          "plot_bgcolor": "#E5ECF6",
          "polar": {
           "angularaxis": {
            "gridcolor": "white",
            "linecolor": "white",
            "ticks": ""
           },
           "bgcolor": "#E5ECF6",
           "radialaxis": {
            "gridcolor": "white",
            "linecolor": "white",
            "ticks": ""
           }
          },
          "scene": {
           "xaxis": {
            "backgroundcolor": "#E5ECF6",
            "gridcolor": "white",
            "gridwidth": 2,
            "linecolor": "white",
            "showbackground": true,
            "ticks": "",
            "zerolinecolor": "white"
           },
           "yaxis": {
            "backgroundcolor": "#E5ECF6",
            "gridcolor": "white",
            "gridwidth": 2,
            "linecolor": "white",
            "showbackground": true,
            "ticks": "",
            "zerolinecolor": "white"
           },
           "zaxis": {
            "backgroundcolor": "#E5ECF6",
            "gridcolor": "white",
            "gridwidth": 2,
            "linecolor": "white",
            "showbackground": true,
            "ticks": "",
            "zerolinecolor": "white"
           }
          },
          "shapedefaults": {
           "line": {
            "color": "#2a3f5f"
           }
          },
          "ternary": {
           "aaxis": {
            "gridcolor": "white",
            "linecolor": "white",
            "ticks": ""
           },
           "baxis": {
            "gridcolor": "white",
            "linecolor": "white",
            "ticks": ""
           },
           "bgcolor": "#E5ECF6",
           "caxis": {
            "gridcolor": "white",
            "linecolor": "white",
            "ticks": ""
           }
          },
          "title": {
           "x": 0.05
          },
          "xaxis": {
           "automargin": true,
           "gridcolor": "white",
           "linecolor": "white",
           "ticks": "",
           "title": {
            "standoff": 15
           },
           "zerolinecolor": "white",
           "zerolinewidth": 2
          },
          "yaxis": {
           "automargin": true,
           "gridcolor": "white",
           "linecolor": "white",
           "ticks": "",
           "title": {
            "standoff": 15
           },
           "zerolinecolor": "white",
           "zerolinewidth": 2
          }
         }
        },
        "title": {
         "text": "total_count by avg_price (Bin Size: 2)"
        },
        "xaxis": {
         "anchor": "y",
         "domain": [
          0,
          1
         ],
         "title": {
          "text": "Bins"
         }
        },
        "yaxis": {
         "anchor": "x",
         "domain": [
          0,
          1
         ],
         "title": {
          "text": "total_count"
         }
        }
       }
      }
     },
     "metadata": {},
     "output_type": "display_data"
    }
   ],
   "source": [
    "helper.plot_histogram(df, \"avg_price\", 2, \"total_count\")"
   ]
  },
  {
   "cell_type": "code",
   "execution_count": 8,
   "metadata": {},
   "outputs": [
    {
     "data": {
      "application/vnd.plotly.v1+json": {
       "config": {
        "plotlyServerURL": "https://plot.ly"
       },
       "data": [
        {
         "alignmentgroup": "True",
         "hovertemplate": "Bins=%{x}<br>total_count=%{y}<br>perc_total=%{text}<extra></extra>",
         "legendgroup": "",
         "marker": {
          "color": "#636efa",
          "pattern": {
           "shape": ""
          }
         },
         "name": "",
         "offsetgroup": "",
         "orientation": "v",
         "showlegend": false,
         "text": [
          "% 0.0",
          "% 0.5",
          "% 12.58",
          "% 6.2",
          "% 2.54",
          "% 20.68",
          "% 11.23",
          "% 9.52",
          "% 4.48",
          "% 5.36",
          "% 1.38",
          "% 1.85",
          "% 1.92",
          "% 0.72",
          "% 0.45",
          "% 0.65",
          "% 0.82",
          "% 3.61",
          "% 0.12",
          "% 7.01",
          "% 0.0",
          "% 0.8",
          "% 0.71",
          "% 3.25",
          "% 0.9",
          "% 2.47",
          "% 0.22",
          "% 0.03",
          "% 0.0"
         ],
         "textposition": "auto",
         "type": "bar",
         "x": [
          "0",
          "1",
          "2",
          "3",
          "4",
          "5",
          "6",
          "7",
          "8",
          "9",
          "10",
          "11",
          "12",
          "13",
          "14",
          "15",
          "16",
          "17",
          "18",
          "19",
          "20",
          "21",
          "22",
          "23",
          "24",
          "25",
          "26",
          "27",
          "28"
         ],
         "xaxis": "x",
         "y": [
          0,
          65557,
          1647145,
          811512,
          332702,
          2708044,
          1471235,
          1246176,
          586051,
          702138,
          181204,
          242658,
          251979,
          93796,
          59322,
          85660,
          107685,
          472567,
          15462,
          917631,
          0,
          104311,
          93169,
          425266,
          117998,
          323128,
          28583,
          4307,
          348
         ],
         "yaxis": "y"
        }
       ],
       "layout": {
        "barmode": "relative",
        "legend": {
         "tracegroupgap": 0
        },
        "template": {
         "data": {
          "bar": [
           {
            "error_x": {
             "color": "#2a3f5f"
            },
            "error_y": {
             "color": "#2a3f5f"
            },
            "marker": {
             "line": {
              "color": "#E5ECF6",
              "width": 0.5
             },
             "pattern": {
              "fillmode": "overlay",
              "size": 10,
              "solidity": 0.2
             }
            },
            "type": "bar"
           }
          ],
          "barpolar": [
           {
            "marker": {
             "line": {
              "color": "#E5ECF6",
              "width": 0.5
             },
             "pattern": {
              "fillmode": "overlay",
              "size": 10,
              "solidity": 0.2
             }
            },
            "type": "barpolar"
           }
          ],
          "carpet": [
           {
            "aaxis": {
             "endlinecolor": "#2a3f5f",
             "gridcolor": "white",
             "linecolor": "white",
             "minorgridcolor": "white",
             "startlinecolor": "#2a3f5f"
            },
            "baxis": {
             "endlinecolor": "#2a3f5f",
             "gridcolor": "white",
             "linecolor": "white",
             "minorgridcolor": "white",
             "startlinecolor": "#2a3f5f"
            },
            "type": "carpet"
           }
          ],
          "choropleth": [
           {
            "colorbar": {
             "outlinewidth": 0,
             "ticks": ""
            },
            "type": "choropleth"
           }
          ],
          "contour": [
           {
            "colorbar": {
             "outlinewidth": 0,
             "ticks": ""
            },
            "colorscale": [
             [
              0,
              "#0d0887"
             ],
             [
              0.1111111111111111,
              "#46039f"
             ],
             [
              0.2222222222222222,
              "#7201a8"
             ],
             [
              0.3333333333333333,
              "#9c179e"
             ],
             [
              0.4444444444444444,
              "#bd3786"
             ],
             [
              0.5555555555555556,
              "#d8576b"
             ],
             [
              0.6666666666666666,
              "#ed7953"
             ],
             [
              0.7777777777777778,
              "#fb9f3a"
             ],
             [
              0.8888888888888888,
              "#fdca26"
             ],
             [
              1,
              "#f0f921"
             ]
            ],
            "type": "contour"
           }
          ],
          "contourcarpet": [
           {
            "colorbar": {
             "outlinewidth": 0,
             "ticks": ""
            },
            "type": "contourcarpet"
           }
          ],
          "heatmap": [
           {
            "colorbar": {
             "outlinewidth": 0,
             "ticks": ""
            },
            "colorscale": [
             [
              0,
              "#0d0887"
             ],
             [
              0.1111111111111111,
              "#46039f"
             ],
             [
              0.2222222222222222,
              "#7201a8"
             ],
             [
              0.3333333333333333,
              "#9c179e"
             ],
             [
              0.4444444444444444,
              "#bd3786"
             ],
             [
              0.5555555555555556,
              "#d8576b"
             ],
             [
              0.6666666666666666,
              "#ed7953"
             ],
             [
              0.7777777777777778,
              "#fb9f3a"
             ],
             [
              0.8888888888888888,
              "#fdca26"
             ],
             [
              1,
              "#f0f921"
             ]
            ],
            "type": "heatmap"
           }
          ],
          "heatmapgl": [
           {
            "colorbar": {
             "outlinewidth": 0,
             "ticks": ""
            },
            "colorscale": [
             [
              0,
              "#0d0887"
             ],
             [
              0.1111111111111111,
              "#46039f"
             ],
             [
              0.2222222222222222,
              "#7201a8"
             ],
             [
              0.3333333333333333,
              "#9c179e"
             ],
             [
              0.4444444444444444,
              "#bd3786"
             ],
             [
              0.5555555555555556,
              "#d8576b"
             ],
             [
              0.6666666666666666,
              "#ed7953"
             ],
             [
              0.7777777777777778,
              "#fb9f3a"
             ],
             [
              0.8888888888888888,
              "#fdca26"
             ],
             [
              1,
              "#f0f921"
             ]
            ],
            "type": "heatmapgl"
           }
          ],
          "histogram": [
           {
            "marker": {
             "pattern": {
              "fillmode": "overlay",
              "size": 10,
              "solidity": 0.2
             }
            },
            "type": "histogram"
           }
          ],
          "histogram2d": [
           {
            "colorbar": {
             "outlinewidth": 0,
             "ticks": ""
            },
            "colorscale": [
             [
              0,
              "#0d0887"
             ],
             [
              0.1111111111111111,
              "#46039f"
             ],
             [
              0.2222222222222222,
              "#7201a8"
             ],
             [
              0.3333333333333333,
              "#9c179e"
             ],
             [
              0.4444444444444444,
              "#bd3786"
             ],
             [
              0.5555555555555556,
              "#d8576b"
             ],
             [
              0.6666666666666666,
              "#ed7953"
             ],
             [
              0.7777777777777778,
              "#fb9f3a"
             ],
             [
              0.8888888888888888,
              "#fdca26"
             ],
             [
              1,
              "#f0f921"
             ]
            ],
            "type": "histogram2d"
           }
          ],
          "histogram2dcontour": [
           {
            "colorbar": {
             "outlinewidth": 0,
             "ticks": ""
            },
            "colorscale": [
             [
              0,
              "#0d0887"
             ],
             [
              0.1111111111111111,
              "#46039f"
             ],
             [
              0.2222222222222222,
              "#7201a8"
             ],
             [
              0.3333333333333333,
              "#9c179e"
             ],
             [
              0.4444444444444444,
              "#bd3786"
             ],
             [
              0.5555555555555556,
              "#d8576b"
             ],
             [
              0.6666666666666666,
              "#ed7953"
             ],
             [
              0.7777777777777778,
              "#fb9f3a"
             ],
             [
              0.8888888888888888,
              "#fdca26"
             ],
             [
              1,
              "#f0f921"
             ]
            ],
            "type": "histogram2dcontour"
           }
          ],
          "mesh3d": [
           {
            "colorbar": {
             "outlinewidth": 0,
             "ticks": ""
            },
            "type": "mesh3d"
           }
          ],
          "parcoords": [
           {
            "line": {
             "colorbar": {
              "outlinewidth": 0,
              "ticks": ""
             }
            },
            "type": "parcoords"
           }
          ],
          "pie": [
           {
            "automargin": true,
            "type": "pie"
           }
          ],
          "scatter": [
           {
            "fillpattern": {
             "fillmode": "overlay",
             "size": 10,
             "solidity": 0.2
            },
            "type": "scatter"
           }
          ],
          "scatter3d": [
           {
            "line": {
             "colorbar": {
              "outlinewidth": 0,
              "ticks": ""
             }
            },
            "marker": {
             "colorbar": {
              "outlinewidth": 0,
              "ticks": ""
             }
            },
            "type": "scatter3d"
           }
          ],
          "scattercarpet": [
           {
            "marker": {
             "colorbar": {
              "outlinewidth": 0,
              "ticks": ""
             }
            },
            "type": "scattercarpet"
           }
          ],
          "scattergeo": [
           {
            "marker": {
             "colorbar": {
              "outlinewidth": 0,
              "ticks": ""
             }
            },
            "type": "scattergeo"
           }
          ],
          "scattergl": [
           {
            "marker": {
             "colorbar": {
              "outlinewidth": 0,
              "ticks": ""
             }
            },
            "type": "scattergl"
           }
          ],
          "scattermapbox": [
           {
            "marker": {
             "colorbar": {
              "outlinewidth": 0,
              "ticks": ""
             }
            },
            "type": "scattermapbox"
           }
          ],
          "scatterpolar": [
           {
            "marker": {
             "colorbar": {
              "outlinewidth": 0,
              "ticks": ""
             }
            },
            "type": "scatterpolar"
           }
          ],
          "scatterpolargl": [
           {
            "marker": {
             "colorbar": {
              "outlinewidth": 0,
              "ticks": ""
             }
            },
            "type": "scatterpolargl"
           }
          ],
          "scatterternary": [
           {
            "marker": {
             "colorbar": {
              "outlinewidth": 0,
              "ticks": ""
             }
            },
            "type": "scatterternary"
           }
          ],
          "surface": [
           {
            "colorbar": {
             "outlinewidth": 0,
             "ticks": ""
            },
            "colorscale": [
             [
              0,
              "#0d0887"
             ],
             [
              0.1111111111111111,
              "#46039f"
             ],
             [
              0.2222222222222222,
              "#7201a8"
             ],
             [
              0.3333333333333333,
              "#9c179e"
             ],
             [
              0.4444444444444444,
              "#bd3786"
             ],
             [
              0.5555555555555556,
              "#d8576b"
             ],
             [
              0.6666666666666666,
              "#ed7953"
             ],
             [
              0.7777777777777778,
              "#fb9f3a"
             ],
             [
              0.8888888888888888,
              "#fdca26"
             ],
             [
              1,
              "#f0f921"
             ]
            ],
            "type": "surface"
           }
          ],
          "table": [
           {
            "cells": {
             "fill": {
              "color": "#EBF0F8"
             },
             "line": {
              "color": "white"
             }
            },
            "header": {
             "fill": {
              "color": "#C8D4E3"
             },
             "line": {
              "color": "white"
             }
            },
            "type": "table"
           }
          ]
         },
         "layout": {
          "annotationdefaults": {
           "arrowcolor": "#2a3f5f",
           "arrowhead": 0,
           "arrowwidth": 1
          },
          "autotypenumbers": "strict",
          "coloraxis": {
           "colorbar": {
            "outlinewidth": 0,
            "ticks": ""
           }
          },
          "colorscale": {
           "diverging": [
            [
             0,
             "#8e0152"
            ],
            [
             0.1,
             "#c51b7d"
            ],
            [
             0.2,
             "#de77ae"
            ],
            [
             0.3,
             "#f1b6da"
            ],
            [
             0.4,
             "#fde0ef"
            ],
            [
             0.5,
             "#f7f7f7"
            ],
            [
             0.6,
             "#e6f5d0"
            ],
            [
             0.7,
             "#b8e186"
            ],
            [
             0.8,
             "#7fbc41"
            ],
            [
             0.9,
             "#4d9221"
            ],
            [
             1,
             "#276419"
            ]
           ],
           "sequential": [
            [
             0,
             "#0d0887"
            ],
            [
             0.1111111111111111,
             "#46039f"
            ],
            [
             0.2222222222222222,
             "#7201a8"
            ],
            [
             0.3333333333333333,
             "#9c179e"
            ],
            [
             0.4444444444444444,
             "#bd3786"
            ],
            [
             0.5555555555555556,
             "#d8576b"
            ],
            [
             0.6666666666666666,
             "#ed7953"
            ],
            [
             0.7777777777777778,
             "#fb9f3a"
            ],
            [
             0.8888888888888888,
             "#fdca26"
            ],
            [
             1,
             "#f0f921"
            ]
           ],
           "sequentialminus": [
            [
             0,
             "#0d0887"
            ],
            [
             0.1111111111111111,
             "#46039f"
            ],
            [
             0.2222222222222222,
             "#7201a8"
            ],
            [
             0.3333333333333333,
             "#9c179e"
            ],
            [
             0.4444444444444444,
             "#bd3786"
            ],
            [
             0.5555555555555556,
             "#d8576b"
            ],
            [
             0.6666666666666666,
             "#ed7953"
            ],
            [
             0.7777777777777778,
             "#fb9f3a"
            ],
            [
             0.8888888888888888,
             "#fdca26"
            ],
            [
             1,
             "#f0f921"
            ]
           ]
          },
          "colorway": [
           "#636efa",
           "#EF553B",
           "#00cc96",
           "#ab63fa",
           "#FFA15A",
           "#19d3f3",
           "#FF6692",
           "#B6E880",
           "#FF97FF",
           "#FECB52"
          ],
          "font": {
           "color": "#2a3f5f"
          },
          "geo": {
           "bgcolor": "white",
           "lakecolor": "white",
           "landcolor": "#E5ECF6",
           "showlakes": true,
           "showland": true,
           "subunitcolor": "white"
          },
          "hoverlabel": {
           "align": "left"
          },
          "hovermode": "closest",
          "mapbox": {
           "style": "light"
          },
          "paper_bgcolor": "white",
          "plot_bgcolor": "#E5ECF6",
          "polar": {
           "angularaxis": {
            "gridcolor": "white",
            "linecolor": "white",
            "ticks": ""
           },
           "bgcolor": "#E5ECF6",
           "radialaxis": {
            "gridcolor": "white",
            "linecolor": "white",
            "ticks": ""
           }
          },
          "scene": {
           "xaxis": {
            "backgroundcolor": "#E5ECF6",
            "gridcolor": "white",
            "gridwidth": 2,
            "linecolor": "white",
            "showbackground": true,
            "ticks": "",
            "zerolinecolor": "white"
           },
           "yaxis": {
            "backgroundcolor": "#E5ECF6",
            "gridcolor": "white",
            "gridwidth": 2,
            "linecolor": "white",
            "showbackground": true,
            "ticks": "",
            "zerolinecolor": "white"
           },
           "zaxis": {
            "backgroundcolor": "#E5ECF6",
            "gridcolor": "white",
            "gridwidth": 2,
            "linecolor": "white",
            "showbackground": true,
            "ticks": "",
            "zerolinecolor": "white"
           }
          },
          "shapedefaults": {
           "line": {
            "color": "#2a3f5f"
           }
          },
          "ternary": {
           "aaxis": {
            "gridcolor": "white",
            "linecolor": "white",
            "ticks": ""
           },
           "baxis": {
            "gridcolor": "white",
            "linecolor": "white",
            "ticks": ""
           },
           "bgcolor": "#E5ECF6",
           "caxis": {
            "gridcolor": "white",
            "linecolor": "white",
            "ticks": ""
           }
          },
          "title": {
           "x": 0.05
          },
          "xaxis": {
           "automargin": true,
           "gridcolor": "white",
           "linecolor": "white",
           "ticks": "",
           "title": {
            "standoff": 15
           },
           "zerolinecolor": "white",
           "zerolinewidth": 2
          },
          "yaxis": {
           "automargin": true,
           "gridcolor": "white",
           "linecolor": "white",
           "ticks": "",
           "title": {
            "standoff": 15
           },
           "zerolinecolor": "white",
           "zerolinewidth": 2
          }
         }
        },
        "title": {
         "text": "total_count by avg_price (Bin Size: 2)"
        },
        "xaxis": {
         "anchor": "y",
         "domain": [
          0,
          1
         ],
         "title": {
          "text": "Bins"
         }
        },
        "yaxis": {
         "anchor": "x",
         "domain": [
          0,
          1
         ],
         "title": {
          "text": "total_count"
         }
        }
       }
      }
     },
     "metadata": {},
     "output_type": "display_data"
    }
   ],
   "source": [
    "helper.plot_histogram(df = enhance(df).query(\"avg_price < 60\"), \n",
    "                      bin_by=\"avg_price\", \n",
    "                      bin_size=2, \n",
    "                      bars_by=\"total_count\")"
   ]
  },
  {
   "cell_type": "code",
   "execution_count": 9,
   "metadata": {},
   "outputs": [
    {
     "name": "stdout",
     "output_type": "stream",
     "text": [
      "\n",
      "        lower_hinge = 11.509638644999999,\n",
      "        median = 20.98302616,\n",
      "        mean = 34.10973010938598\n",
      "        upper_hinge = 43.938159905\n",
      "        upper_whisker = 92.580941795\n",
      "        \n"
     ]
    }
   ],
   "source": [
    "helper.assign_box_plot_values(df,\"avg_price\");"
   ]
  },
  {
   "cell_type": "code",
   "execution_count": 11,
   "metadata": {},
   "outputs": [
    {
     "name": "stdout",
     "output_type": "stream",
     "text": [
      "Slope: -1.0712480617985183\n",
      "Intercept: 0.0020686246478404248\n",
      "R2 = % 70.27\n"
     ]
    },
    {
     "data": {
      "image/png": "[encoded data removed]",
      "text/plain": [
       "<Figure size 864x576 with 1 Axes>"
      ]
     },
     "metadata": {
      "needs_background": "light"
     },
     "output_type": "display_data"
    }
   ],
   "source": [
    "intercept, slope = helper.power_regression(df = enhance(df).query(\"promoted_count > 0\"), \n",
    "                        x_axis= \"promoted_rate\",\n",
    "                        y_axis=\"cost_rate\")"
   ]
  },
  {
   "cell_type": "code",
   "execution_count": null,
   "metadata": {},
   "outputs": [],
   "source": []
  }
 ],
 "metadata": {
  "kernelspec": {
   "display_name": "Python 3 (ipykernel)",
   "language": "python",
   "name": "python3"
  },
  "language_info": {
   "codemirror_mode": {
    "name": "ipython",
    "version": 3
   },
   "file_extension": ".py",
   "mimetype": "text/x-python",
   "name": "python",
   "nbconvert_exporter": "python",
   "pygments_lexer": "ipython3",
   "version": "3.9.7"
  }
 },
 "nbformat": 4,
 "nbformat_minor": 4
}
