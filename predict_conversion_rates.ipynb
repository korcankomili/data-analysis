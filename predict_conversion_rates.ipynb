{
 "cells": [
  {
   "cell_type": "markdown",
   "metadata": {},
   "source": [
    "<ul>\n",
    "  <li><b><u>country:</u></b> visitor country based on the IP address.</li>\n",
    "  <li><b><u>age:</u></b> visitor age. Inferred from 3rd party providers</li>\n",
    "  <li><b><u>new_user:</u></b> whether the visitor has visited the site before, based on cookies, or if they are brand new to the site.</li>\n",
    "  <li><b><u>source:</u></b> Marketing channel source.\n",
    "      <ul>\n",
    "      <li><b>Ads:</b> Came to the site by clicking on an advertisement</li>\n",
    "      <li><b>Seo:</b> Came to the site by clicking on search results</li>\n",
    "      <li><b>Direct:</b> Came to the site by directly typing the URL on the browser</li>\n",
    "    </ul>\n",
    "  </li>\n",
    "  <li><b><u>total_pages_visited:</u></b> Number of total pages visited during the session. This can be seen as a proxy for time spent on-site and engagement</li>\n",
    "  <li><b><u>converted:</u></b> This is our label. 1 means they converted, i.e. created a new account, within the session, 0 means they left without doing so.</li>\n",
    "</ul> "
   ]
  },
  {
   "cell_type": "code",
   "execution_count": 5,
   "metadata": {},
   "outputs": [],
   "source": [
    "import pandas as pd\n",
    "import numpy as np\n",
    "from sklearn.preprocessing import StandardScaler\n",
    "from sklearn.model_selection import train_test_split\n",
    "from sklearn.ensemble import RandomForestClassifier\n",
    "from sklearn.svm import SVC\n",
    "from sklearn.metrics import classification_report \n",
    "\n",
    "import seaborn as sns\n",
    "\n",
    "import helper\n",
    "import warnings\n",
    "warnings.filterwarnings('ignore')"
   ]
  },
  {
   "cell_type": "code",
   "execution_count": 2,
   "metadata": {},
   "outputs": [],
   "source": [
    "df_init = helper.fetch_csv(\"data_sources/conversion_rates.csv\")"
   ]
  },
  {
   "cell_type": "code",
   "execution_count": 3,
   "metadata": {},
   "outputs": [
    {
     "name": "stdout",
     "output_type": "stream",
     "text": [
      "\n",
      "        No missing values found. \n",
      "\n",
      "        No duplicate rows found. \n",
      "\n",
      "            No outliers found in column 'session_id'. \n",
      "\n",
      "            Outliers found in column 'age': \n",
      "\n",
      "            No outliers found in column 'new_user'. \n",
      "\n",
      "            Outliers found in column 'total_pages_visited': \n",
      "\n",
      "            Outliers found in column 'converted': \n"
     ]
    }
   ],
   "source": [
    "helper.perform_data_checks(df_init)"
   ]
  },
  {
   "cell_type": "code",
   "execution_count": 4,
   "metadata": {},
   "outputs": [
    {
     "name": "stdout",
     "output_type": "stream",
     "text": [
      "\n",
      "        lower_hinge = 24.0,\n",
      "        median = 30.0,\n",
      "        mean = 30.569857685009488\n",
      "        upper_hinge = 36.0\n",
      "        upper_whisker = 54.0\n",
      "        \n"
     ]
    }
   ],
   "source": [
    "lower_hinge, median, upper_hinge, upper_whisker = helper.calculate_boxplot_values(df=df_init, column_name=\"age\")"
   ]
  },
  {
   "cell_type": "code",
   "execution_count": 8,
   "metadata": {},
   "outputs": [
    {
     "data": {
      "text/plain": [
       "<AxesSubplot:xlabel='age'>"
      ]
     },
     "execution_count": 8,
     "metadata": {},
     "output_type": "execute_result"
    },
    {
     "data": {
      "image/png": "[encoded data removed]",
      "text/plain": [
       "<Figure size 432x288 with 1 Axes>"
      ]
     },
     "metadata": {
      "needs_background": "light"
     },
     "output_type": "display_data"
    }
   ],
   "source": [
    "\n",
    "sns.boxplot(df_init[\"age\"])"
   ]
  },
  {
   "cell_type": "code",
   "execution_count": null,
   "metadata": {},
   "outputs": [],
   "source": [
    "df = df_init.groupby(['country', 'age', 'new_user', 'source']).agg(\n",
    "    count=('session_id', 'count'),\n",
    "    converted_pages_visited=('total_pages_visited', lambda x: sum(x[df_init['converted'] == True])),\n",
    "    not_converted_pages_visited=('total_pages_visited', lambda x: sum(x[df_init['converted'] == False])),\n",
    "    total_pages_visited=('total_pages_visited', 'sum')\n",
    ").reset_index()\n",
    "\n",
    "df = df.rename(columns={\n",
    "    'count': 'total_sessions',\n",
    "    'converted_pages_visited': 'converted_pages_visited',\n",
    "    'not_converted_pages_visited': 'not_converted_pages_visited',\n",
    "    'total_pages_visited': 'total_pages_visited'\n",
    "})\n",
    "\n",
    "df = df.reset_index(drop=True)\n"
   ]
  },
  {
   "cell_type": "code",
   "execution_count": null,
   "metadata": {},
   "outputs": [],
   "source": [
    "helper.plot_linear_regressions(df.groupby([\"country\", \"source\", \"age_group\"]).sum(), \n",
    "                               x_axis=\"total_pages_visited\", \n",
    "                               y_axis=\"converted_pages_visited\")"
   ]
  },
  {
   "cell_type": "code",
   "execution_count": null,
   "metadata": {},
   "outputs": [],
   "source": [
    "lower_hinge, median, upper_hinge = helper.calculate_boxplot_values(df=df, column_name=\"age\")"
   ]
  },
  {
   "cell_type": "code",
   "execution_count": null,
   "metadata": {},
   "outputs": [],
   "source": [
    "df.loc[df[\"age\"] < lower_hinge, \"age_group\"] = \"q_25\"\n",
    "df.loc[(df[\"age\"] >= lower_hinge) & (df[\"age\"] < median), \"age_group\"] = \"q_50\"\n",
    "df.loc[(df[\"age\"] >= median) & (df[\"age\"] < upper_hinge), \"age_group\"] = \"q_75\"\n",
    "df.loc[(df[\"age\"] >= upper_hinge), \"age_group\"] = \"q_100\""
   ]
  },
  {
   "cell_type": "code",
   "execution_count": null,
   "metadata": {},
   "outputs": [],
   "source": [
    "df"
   ]
  },
  {
   "cell_type": "code",
   "execution_count": null,
   "metadata": {},
   "outputs": [],
   "source": [
    "df[\"converted\"] = df[\"converted\"].astype(\"bool\")\n",
    "df[\"new_user\"] = df[\"new_user\"].astype(\"bool\")"
   ]
  },
  {
   "cell_type": "code",
   "execution_count": null,
   "metadata": {},
   "outputs": [],
   "source": [
    "df"
   ]
  },
  {
   "cell_type": "code",
   "execution_count": null,
   "metadata": {},
   "outputs": [],
   "source": [
    "#null check\n",
    "df_nulls = df.isnull().sum().to_frame().reset_index().rename({\"index\":\"column_name\", 0: \"total_nulls\"}, axis = 1)\n",
    "df_nulls = df_nulls[df_nulls[\"total_nulls\"] > 0]\n",
    "df_nulls"
   ]
  },
  {
   "cell_type": "code",
   "execution_count": null,
   "metadata": {},
   "outputs": [],
   "source": [
    "\n",
    "\n",
    "df_nulls[[\"total_nulls\"]]"
   ]
  },
  {
   "cell_type": "code",
   "execution_count": null,
   "metadata": {},
   "outputs": [],
   "source": []
  },
  {
   "cell_type": "code",
   "execution_count": null,
   "metadata": {},
   "outputs": [],
   "source": []
  },
  {
   "cell_type": "code",
   "execution_count": null,
   "metadata": {},
   "outputs": [],
   "source": [
    "perform_data_checks(result_df)"
   ]
  },
  {
   "cell_type": "code",
   "execution_count": null,
   "metadata": {},
   "outputs": [],
   "source": [
    "import pandas as pd\n",
    "import numpy as np\n",
    "\n",
    "def clean_outliers(df, column_name, threshold=3):\n",
    "    \"\"\"\n",
    "    Verilen sütundaki outlier'ları temizler.\n",
    "\n",
    "    Parameters:\n",
    "        df (DataFrame): Outlier temizliği yapılacak DataFrame.\n",
    "        column_name (str): Outlier temizliği yapılacak sütunun adı.\n",
    "        threshold (float): Outlier olarak kabul edilecek z puanı eşik değeri. Varsayılan olarak 3.\n",
    "\n",
    "    Returns:\n",
    "        cleaned_df (DataFrame): Outlier'ları temizlenmiş DataFrame.\n",
    "    \"\"\"\n",
    "    # Belirtilen sütunu seç\n",
    "    column = df[column_name]\n",
    "    \n",
    "    # Z puanlarını hesapla\n",
    "    z_scores = (column - column.mean()) / column.std()\n",
    "    print(z_scores)\n",
    "    \n",
    "    # Z puanı eşik değerini aşan outlier'ları tespit et\n",
    "    outliers = df[abs(z_scores) > threshold]\n",
    "    \n",
    "    if not outliers.empty:\n",
    "        print(f\"Outliers found in column '{column_name}':\")\n",
    "        print(outliers)\n",
    "        \n",
    "        # Outlier'ları veri çerçevesinden kaldır\n",
    "        df = df.drop(outliers.index)\n",
    "    \n",
    "    else:\n",
    "        print(f\"No outliers found in column '{column_name}'.\")\n",
    "    \n",
    "    return df\n"
   ]
  },
  {
   "cell_type": "code",
   "execution_count": null,
   "metadata": {},
   "outputs": [],
   "source": [
    "clean_df = clean_outliers(df, \"age\", threshold=3)"
   ]
  },
  {
   "cell_type": "code",
   "execution_count": null,
   "metadata": {},
   "outputs": [],
   "source": [
    "clean_df.age.max()"
   ]
  },
  {
   "cell_type": "code",
   "execution_count": null,
   "metadata": {},
   "outputs": [],
   "source": [
    "\n",
    "# Özellikleri ve hedef değişkeni belirleyin\n",
    "X = df.drop('converted', axis=1)\n",
    "y = df['converted']\n",
    "\n",
    "# scaling and one-hot encoding\n",
    "numeric_columns = [\"age\", \"total_pages_visited\"]\n",
    "categorical_columns = [\"country\", \"source\"]\n",
    "binary_columns = [\"new_user\", \"converted\"]\n",
    "\n",
    "numeric_data_scaler = StandardScaler()\n",
    "numeric_data_scaler.fit(df[numeric_columns])\n",
    "scaled_numeric_data = numeric_data_scaler.transform(df[numeric_columns])\n",
    "\n",
    "model_df = pd.DataFrame(scaled_numeric_data)\n",
    "model_df.columns = numeric_columns\n",
    "\n",
    "one_hot_encoded = pd.get_dummies(df[categorical_columns])\n",
    "\n",
    "model_df = pd.concat([model_df, one_hot_encoded, df[binary_columns]], axis=1)\n",
    "model_df.dropna(inplace=True)\n",
    "\n",
    "# split\n",
    "X = model_df.drop('converted', axis=1)\n",
    "y = model_df['converted']\n",
    "X_train, X_test, y_train, y_test = train_test_split(X, y, test_size=0.30, random_state=42)\n",
    "\n",
    "# Random Forest sınıflandırıcıyı eğitin\n",
    "rfc = RandomForestClassifier(n_estimators=300, min_samples_split=20, random_state=42)\n",
    "rfc.fit(X_train, y_train)\n",
    "\n",
    "# Test verisi üzerinde tahminler yapın ve sonuçları değerlendirin\n",
    "predictions_rf = rfc.predict(X_test)\n",
    "print(\"Random Forest:\\n\", classification_report(y_test, predictions_rf))"
   ]
  }
 ],
 "metadata": {
  "kernelspec": {
   "display_name": "Python 3 (ipykernel)",
   "language": "python",
   "name": "python3"
  },
  "language_info": {
   "codemirror_mode": {
    "name": "ipython",
    "version": 3
   },
   "file_extension": ".py",
   "mimetype": "text/x-python",
   "name": "python",
   "nbconvert_exporter": "python",
   "pygments_lexer": "ipython3",
   "version": "3.9.7"
  }
 },
 "nbformat": 4,
 "nbformat_minor": 2
}
